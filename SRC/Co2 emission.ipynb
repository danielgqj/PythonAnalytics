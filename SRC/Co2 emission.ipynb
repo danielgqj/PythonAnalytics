{
 "cells": [
  {
   "cell_type": "code",
   "execution_count": 1,
   "metadata": {},
   "outputs": [],
   "source": [
    "import datetime # Tipo de dato para fechas y horas\n",
    "import pandas as pd # Manejo de datos tabulados\n",
    "import numpy as np # Algebra Lineal y operaciones matematicas\n",
    "import matplotlib.pyplot as plt # Graficos de datos\n",
    "import seaborn as sns # Graficos estadisticos\n",
    "import pandas_profiling as ppr # ?????????\n",
    "#import geopandas as gpd # Pandas para datos geograficos (Mapas!!)\n",
    "from fitter import Fitter # Ajuste de distribuciones de probs"
   ]
  },
  {
   "cell_type": "code",
   "execution_count": 2,
   "metadata": {},
   "outputs": [],
   "source": [
    "%matplotlib inline"
   ]
  },
  {
   "cell_type": "code",
   "execution_count": 3,
   "metadata": {},
   "outputs": [],
   "source": [
    "df = pd.read_csv('../Co2/CO2 Emissions_Canada.csv')"
   ]
  },
  {
   "cell_type": "code",
   "execution_count": 4,
   "metadata": {},
   "outputs": [
    {
     "data": {
      "text/html": [
       "<div>\n",
       "<style scoped>\n",
       "    .dataframe tbody tr th:only-of-type {\n",
       "        vertical-align: middle;\n",
       "    }\n",
       "\n",
       "    .dataframe tbody tr th {\n",
       "        vertical-align: top;\n",
       "    }\n",
       "\n",
       "    .dataframe thead th {\n",
       "        text-align: right;\n",
       "    }\n",
       "</style>\n",
       "<table border=\"1\" class=\"dataframe\">\n",
       "  <thead>\n",
       "    <tr style=\"text-align: right;\">\n",
       "      <th></th>\n",
       "      <th>Make</th>\n",
       "      <th>Model</th>\n",
       "      <th>Vehicle Class</th>\n",
       "      <th>Engine Size(L)</th>\n",
       "      <th>Cylinders</th>\n",
       "      <th>Transmission</th>\n",
       "      <th>Fuel Type</th>\n",
       "      <th>Fuel Consumption City (L/100 km)</th>\n",
       "      <th>Fuel Consumption Hwy (L/100 km)</th>\n",
       "      <th>Fuel Consumption Comb (L/100 km)</th>\n",
       "      <th>Fuel Consumption Comb (mpg)</th>\n",
       "      <th>CO2 Emissions(g/km)</th>\n",
       "    </tr>\n",
       "  </thead>\n",
       "  <tbody>\n",
       "    <tr>\n",
       "      <th>0</th>\n",
       "      <td>ACURA</td>\n",
       "      <td>ILX</td>\n",
       "      <td>COMPACT</td>\n",
       "      <td>2.0</td>\n",
       "      <td>4</td>\n",
       "      <td>AS5</td>\n",
       "      <td>Z</td>\n",
       "      <td>9.9</td>\n",
       "      <td>6.7</td>\n",
       "      <td>8.5</td>\n",
       "      <td>33</td>\n",
       "      <td>196</td>\n",
       "    </tr>\n",
       "    <tr>\n",
       "      <th>1</th>\n",
       "      <td>ACURA</td>\n",
       "      <td>ILX</td>\n",
       "      <td>COMPACT</td>\n",
       "      <td>2.4</td>\n",
       "      <td>4</td>\n",
       "      <td>M6</td>\n",
       "      <td>Z</td>\n",
       "      <td>11.2</td>\n",
       "      <td>7.7</td>\n",
       "      <td>9.6</td>\n",
       "      <td>29</td>\n",
       "      <td>221</td>\n",
       "    </tr>\n",
       "    <tr>\n",
       "      <th>2</th>\n",
       "      <td>ACURA</td>\n",
       "      <td>ILX HYBRID</td>\n",
       "      <td>COMPACT</td>\n",
       "      <td>1.5</td>\n",
       "      <td>4</td>\n",
       "      <td>AV7</td>\n",
       "      <td>Z</td>\n",
       "      <td>6.0</td>\n",
       "      <td>5.8</td>\n",
       "      <td>5.9</td>\n",
       "      <td>48</td>\n",
       "      <td>136</td>\n",
       "    </tr>\n",
       "    <tr>\n",
       "      <th>3</th>\n",
       "      <td>ACURA</td>\n",
       "      <td>MDX 4WD</td>\n",
       "      <td>SUV - SMALL</td>\n",
       "      <td>3.5</td>\n",
       "      <td>6</td>\n",
       "      <td>AS6</td>\n",
       "      <td>Z</td>\n",
       "      <td>12.7</td>\n",
       "      <td>9.1</td>\n",
       "      <td>11.1</td>\n",
       "      <td>25</td>\n",
       "      <td>255</td>\n",
       "    </tr>\n",
       "    <tr>\n",
       "      <th>4</th>\n",
       "      <td>ACURA</td>\n",
       "      <td>RDX AWD</td>\n",
       "      <td>SUV - SMALL</td>\n",
       "      <td>3.5</td>\n",
       "      <td>6</td>\n",
       "      <td>AS6</td>\n",
       "      <td>Z</td>\n",
       "      <td>12.1</td>\n",
       "      <td>8.7</td>\n",
       "      <td>10.6</td>\n",
       "      <td>27</td>\n",
       "      <td>244</td>\n",
       "    </tr>\n",
       "  </tbody>\n",
       "</table>\n",
       "</div>"
      ],
      "text/plain": [
       "    Make       Model Vehicle Class  Engine Size(L)  Cylinders Transmission  \\\n",
       "0  ACURA         ILX       COMPACT             2.0          4          AS5   \n",
       "1  ACURA         ILX       COMPACT             2.4          4           M6   \n",
       "2  ACURA  ILX HYBRID       COMPACT             1.5          4          AV7   \n",
       "3  ACURA     MDX 4WD   SUV - SMALL             3.5          6          AS6   \n",
       "4  ACURA     RDX AWD   SUV - SMALL             3.5          6          AS6   \n",
       "\n",
       "  Fuel Type  Fuel Consumption City (L/100 km)  \\\n",
       "0         Z                               9.9   \n",
       "1         Z                              11.2   \n",
       "2         Z                               6.0   \n",
       "3         Z                              12.7   \n",
       "4         Z                              12.1   \n",
       "\n",
       "   Fuel Consumption Hwy (L/100 km)  Fuel Consumption Comb (L/100 km)  \\\n",
       "0                              6.7                               8.5   \n",
       "1                              7.7                               9.6   \n",
       "2                              5.8                               5.9   \n",
       "3                              9.1                              11.1   \n",
       "4                              8.7                              10.6   \n",
       "\n",
       "   Fuel Consumption Comb (mpg)  CO2 Emissions(g/km)  \n",
       "0                           33                  196  \n",
       "1                           29                  221  \n",
       "2                           48                  136  \n",
       "3                           25                  255  \n",
       "4                           27                  244  "
      ]
     },
     "execution_count": 4,
     "metadata": {},
     "output_type": "execute_result"
    }
   ],
   "source": [
    "df.head()"
   ]
  },
  {
   "cell_type": "code",
   "execution_count": 5,
   "metadata": {},
   "outputs": [
    {
     "data": {
      "text/plain": [
       "7385"
      ]
     },
     "execution_count": 5,
     "metadata": {},
     "output_type": "execute_result"
    }
   ],
   "source": [
    "df.shape[0]"
   ]
  },
  {
   "cell_type": "markdown",
   "metadata": {},
   "source": [
    "- # Preguntas de exploración\n",
    "1. ### ¿Cuales son los valores máximos y mínimos de emisión de Co2?\n",
    "2. ### ¿Cuál es el grado de corelación entre la emision de Co2 y las otras variables?\n",
    "3. ### ¿Cuál es la marca de auto con mayor número de unidades?\n",
    "\n",
    "\n",
    "- # **Emisión de Co2 en vehículos marca Ford**\n",
    "1. ### ¿Qué tipo de combustible usan los vehículos de la marca Ford?\n",
    "2. ### ¿Cuál es el tipo de combustible(Fuel Type) predominante en los autos FORD que tienen más emisiones de CO2?\n",
    "- # Impuesto por huella de carbono\n",
    "- ## Hipótesis: \n"
   ]
  },
  {
   "cell_type": "markdown",
   "metadata": {},
   "source": [
    "### Respondiendo las preguntas generales \n",
    " 1. ### ¿Cuales son los valores máximos y mínimos de emisión de Co2?"
   ]
  },
  {
   "cell_type": "code",
   "execution_count": 6,
   "metadata": {},
   "outputs": [
    {
     "data": {
      "text/plain": [
       "(0, 0.0)"
      ]
     },
     "execution_count": 6,
     "metadata": {},
     "output_type": "execute_result"
    }
   ],
   "source": [
    "df['CO2 Emissions(g/km)'].isna().sum(), df['CO2 Emissions(g/km)'].isna().sum() / df.shape[0]"
   ]
  },
  {
   "cell_type": "code",
   "execution_count": 7,
   "metadata": {},
   "outputs": [
    {
     "data": {
      "text/plain": [
       "count    7385.000000\n",
       "mean      250.584699\n",
       "std        58.512679\n",
       "min        96.000000\n",
       "25%       208.000000\n",
       "50%       246.000000\n",
       "75%       288.000000\n",
       "max       522.000000\n",
       "Name: CO2 Emissions(g/km), dtype: float64"
      ]
     },
     "execution_count": 7,
     "metadata": {},
     "output_type": "execute_result"
    }
   ],
   "source": [
    "df['CO2 Emissions(g/km)'].describe()"
   ]
  },
  {
   "cell_type": "markdown",
   "metadata": {},
   "source": [
    "#### Se encontró que el valor mínimo es de 96(g/km) y el valor máximo es de 522(g/km)"
   ]
  },
  {
   "cell_type": "markdown",
   "metadata": {},
   "source": [
    "### Una vez encontrado los valores máximos y mínimos, también tenemos la desviación estándar con lo que procederemos a agrupar las unidades a 3 desviaciones estándar."
   ]
  },
  {
   "cell_type": "code",
   "execution_count": 8,
   "metadata": {},
   "outputs": [],
   "source": [
    "rangos_co2 = [95, 154, 212, 270, 523]\n",
    "co2_bins = pd.cut(df['CO2 Emissions(g/km)'], bins=rangos_co2)\n",
    "\n",
    "rangos_co2_count= co2_bins.value_counts()"
   ]
  },
  {
   "cell_type": "code",
   "execution_count": 9,
   "metadata": {},
   "outputs": [
    {
     "data": {
      "text/plain": [
       "(212, 270]    2795\n",
       "(270, 523]    2521\n",
       "(154, 212]    1892\n",
       "(95, 154]      177\n",
       "Name: CO2 Emissions(g/km), dtype: int64"
      ]
     },
     "execution_count": 9,
     "metadata": {},
     "output_type": "execute_result"
    }
   ],
   "source": [
    "rangos_co2_count"
   ]
  },
  {
   "cell_type": "code",
   "execution_count": 10,
   "metadata": {},
   "outputs": [],
   "source": [
    "df['co2_bins'] = co2_bins"
   ]
  },
  {
   "cell_type": "code",
   "execution_count": 11,
   "metadata": {},
   "outputs": [
    {
     "data": {
      "text/html": [
       "<div>\n",
       "<style scoped>\n",
       "    .dataframe tbody tr th:only-of-type {\n",
       "        vertical-align: middle;\n",
       "    }\n",
       "\n",
       "    .dataframe tbody tr th {\n",
       "        vertical-align: top;\n",
       "    }\n",
       "\n",
       "    .dataframe thead th {\n",
       "        text-align: right;\n",
       "    }\n",
       "</style>\n",
       "<table border=\"1\" class=\"dataframe\">\n",
       "  <thead>\n",
       "    <tr style=\"text-align: right;\">\n",
       "      <th></th>\n",
       "      <th>co2_bins</th>\n",
       "      <th>Fuel Type</th>\n",
       "      <th>conteo</th>\n",
       "    </tr>\n",
       "  </thead>\n",
       "  <tbody>\n",
       "    <tr>\n",
       "      <th>0</th>\n",
       "      <td>(95, 154]</td>\n",
       "      <td>D</td>\n",
       "      <td>0</td>\n",
       "    </tr>\n",
       "    <tr>\n",
       "      <th>1</th>\n",
       "      <td>(95, 154]</td>\n",
       "      <td>E</td>\n",
       "      <td>1</td>\n",
       "    </tr>\n",
       "    <tr>\n",
       "      <th>2</th>\n",
       "      <td>(95, 154]</td>\n",
       "      <td>N</td>\n",
       "      <td>0</td>\n",
       "    </tr>\n",
       "    <tr>\n",
       "      <th>3</th>\n",
       "      <td>(95, 154]</td>\n",
       "      <td>X</td>\n",
       "      <td>166</td>\n",
       "    </tr>\n",
       "    <tr>\n",
       "      <th>4</th>\n",
       "      <td>(95, 154]</td>\n",
       "      <td>Z</td>\n",
       "      <td>10</td>\n",
       "    </tr>\n",
       "  </tbody>\n",
       "</table>\n",
       "</div>"
      ],
      "text/plain": [
       "    co2_bins Fuel Type  conteo\n",
       "0  (95, 154]         D       0\n",
       "1  (95, 154]         E       1\n",
       "2  (95, 154]         N       0\n",
       "3  (95, 154]         X     166\n",
       "4  (95, 154]         Z      10"
      ]
     },
     "execution_count": 11,
     "metadata": {},
     "output_type": "execute_result"
    }
   ],
   "source": [
    "conteo_co2_x_fuel = (df[['co2_bins', 'Fuel Type']].dropna() # Seleccion de columna y elimino NaNs\n",
    "                      .groupby(['co2_bins', 'Fuel Type']).size() # Agrupo y cuento las obs. por intervalo de edad y sexo \n",
    "                      .reset_index() # Convierte a df \n",
    "                      .rename({0: 'conteo'}, axis=1)) # Cambia el nombre de \"0\" a \"conteo\"\n",
    "conteo_co2_x_fuel.head()"
   ]
  },
  {
   "cell_type": "code",
   "execution_count": 12,
   "metadata": {},
   "outputs": [
    {
     "data": {
      "image/png": "[encoded data removed]",
      "text/plain": [
       "<Figure size 414.5x360 with 1 Axes>"
      ]
     },
     "metadata": {
      "needs_background": "light"
     },
     "output_type": "display_data"
    }
   ],
   "source": [
    "g = sns.catplot(\n",
    "    data=conteo_co2_x_fuel, kind=\"bar\",\n",
    "    x=\"co2_bins\", y=\"conteo\", hue=\"Fuel Type\",\n",
    ")\n",
    "g.set_xticklabels(rotation=90)\n",
    "plt.show()"
   ]
  },
  {
   "cell_type": "markdown",
   "metadata": {},
   "source": [
    "# Trabajando con la variable Engine Size(L)"
   ]
  },
  {
   "cell_type": "code",
   "execution_count": 13,
   "metadata": {},
   "outputs": [
    {
     "data": {
      "text/plain": [
       "count    7385.000000\n",
       "mean        3.160068\n",
       "std         1.354170\n",
       "min         0.900000\n",
       "25%         2.000000\n",
       "50%         3.000000\n",
       "75%         3.700000\n",
       "max         8.400000\n",
       "Name: Engine Size(L), dtype: float64"
      ]
     },
     "execution_count": 13,
     "metadata": {},
     "output_type": "execute_result"
    }
   ],
   "source": [
    "df['Engine Size(L)'].describe()\n",
    "\n"
   ]
  },
  {
   "cell_type": "code",
   "execution_count": 14,
   "metadata": {},
   "outputs": [],
   "source": [
    "rangos_cil = [0, 1, 2, 3, 4, 5, 6, 7, 8, 9]\n",
    "cil_bins = pd.cut(df['Engine Size(L)'], bins=rangos_cil)\n",
    "\n",
    "cil_bins_count = cil_bins.value_counts()"
   ]
  },
  {
   "cell_type": "code",
   "execution_count": 15,
   "metadata": {},
   "outputs": [
    {
     "data": {
      "text/plain": [
       "(1, 2]    2432\n",
       "(2, 3]    1776\n",
       "(3, 4]    1661\n",
       "(5, 6]     650\n",
       "(4, 5]     546\n",
       "(6, 7]     291\n",
       "(0, 1]      21\n",
       "(8, 9]       5\n",
       "(7, 8]       3\n",
       "Name: Engine Size(L), dtype: int64"
      ]
     },
     "execution_count": 15,
     "metadata": {},
     "output_type": "execute_result"
    }
   ],
   "source": [
    "cil_bins_count"
   ]
  },
  {
   "cell_type": "code",
   "execution_count": 16,
   "metadata": {},
   "outputs": [
    {
     "data": {
      "text/plain": [
       "<AxesSubplot:>"
      ]
     },
     "execution_count": 16,
     "metadata": {},
     "output_type": "execute_result"
    },
    {
     "data": {
      "image/png": "[encoded data removed]",
      "text/plain": [
       "<Figure size 432x288 with 1 Axes>"
      ]
     },
     "metadata": {
      "needs_background": "light"
     },
     "output_type": "display_data"
    }
   ],
   "source": [
    "cil_bins_count.sort_index().plot(kind='bar')"
   ]
  },
  {
   "cell_type": "code",
   "execution_count": 17,
   "metadata": {},
   "outputs": [
    {
     "data": {
      "text/plain": [
       "<matplotlib.collections.PathCollection at 0x1f2eaff13d0>"
      ]
     },
     "execution_count": 17,
     "metadata": {},
     "output_type": "execute_result"
    },
    {
     "data": {
      "image/png": "[encoded data removed]",
      "text/plain": [
       "<Figure size 432x288 with 1 Axes>"
      ]
     },
     "metadata": {
      "needs_background": "light"
     },
     "output_type": "display_data"
    }
   ],
   "source": [
    "plt.scatter(x=df['CO2 Emissions(g/km)'], y=df['Engine Size(L)'])"
   ]
  },
  {
   "cell_type": "code",
   "execution_count": 18,
   "metadata": {},
   "outputs": [
    {
     "data": {
      "text/plain": [
       "Index(['Make', 'Model', 'Vehicle Class', 'Engine Size(L)', 'Cylinders',\n",
       "       'Transmission', 'Fuel Type', 'Fuel Consumption City (L/100 km)',\n",
       "       'Fuel Consumption Hwy (L/100 km)', 'Fuel Consumption Comb (L/100 km)',\n",
       "       'Fuel Consumption Comb (mpg)', 'CO2 Emissions(g/km)', 'co2_bins'],\n",
       "      dtype='object')"
      ]
     },
     "execution_count": 18,
     "metadata": {},
     "output_type": "execute_result"
    }
   ],
   "source": [
    "df.columns"
   ]
  },
  {
   "cell_type": "code",
   "execution_count": 19,
   "metadata": {},
   "outputs": [],
   "source": [
    "df_vars = df[['Engine Size(L)', 'Cylinders', 'Fuel Type', 'Fuel Consumption City (L/100 km)',\n",
    "       'Fuel Consumption Hwy (L/100 km)', 'Fuel Consumption Comb (L/100 km)',\n",
    "       'Fuel Consumption Comb (mpg)', 'CO2 Emissions(g/km)']]"
   ]
  },
  {
   "cell_type": "code",
   "execution_count": 20,
   "metadata": {},
   "outputs": [
    {
     "data": {
      "text/plain": [
       "8"
      ]
     },
     "execution_count": 20,
     "metadata": {},
     "output_type": "execute_result"
    }
   ],
   "source": [
    "corr_matrix_var = ['Engine Size(L)', 'Cylinders', 'Fuel Type', 'Fuel Consumption City (L/100 km)',\n",
    "       'Fuel Consumption Hwy (L/100 km)', 'Fuel Consumption Comb (L/100 km)',\n",
    "       'Fuel Consumption Comb (mpg)', 'CO2 Emissions(g/km)']\n",
    "\n",
    "len(corr_matrix_var)"
   ]
  },
  {
   "cell_type": "markdown",
   "metadata": {},
   "source": [
    "2. ### ¿Cuál es el grado de corelación entre la emision de Co2 y las otras variables?"
   ]
  },
  {
   "cell_type": "code",
   "execution_count": 21,
   "metadata": {},
   "outputs": [
    {
     "data": {
      "text/html": [
       "<div>\n",
       "<style scoped>\n",
       "    .dataframe tbody tr th:only-of-type {\n",
       "        vertical-align: middle;\n",
       "    }\n",
       "\n",
       "    .dataframe tbody tr th {\n",
       "        vertical-align: top;\n",
       "    }\n",
       "\n",
       "    .dataframe thead th {\n",
       "        text-align: right;\n",
       "    }\n",
       "</style>\n",
       "<table border=\"1\" class=\"dataframe\">\n",
       "  <thead>\n",
       "    <tr style=\"text-align: right;\">\n",
       "      <th></th>\n",
       "      <th>Engine Size(L)</th>\n",
       "      <th>Cylinders</th>\n",
       "      <th>Fuel Consumption City (L/100 km)</th>\n",
       "      <th>Fuel Consumption Hwy (L/100 km)</th>\n",
       "      <th>Fuel Consumption Comb (L/100 km)</th>\n",
       "      <th>Fuel Consumption Comb (mpg)</th>\n",
       "      <th>CO2 Emissions(g/km)</th>\n",
       "    </tr>\n",
       "  </thead>\n",
       "  <tbody>\n",
       "    <tr>\n",
       "      <th>Engine Size(L)</th>\n",
       "      <td>1.000000</td>\n",
       "      <td>0.927653</td>\n",
       "      <td>0.831379</td>\n",
       "      <td>0.761526</td>\n",
       "      <td>0.817060</td>\n",
       "      <td>-0.757854</td>\n",
       "      <td>0.851145</td>\n",
       "    </tr>\n",
       "    <tr>\n",
       "      <th>Cylinders</th>\n",
       "      <td>0.927653</td>\n",
       "      <td>1.000000</td>\n",
       "      <td>0.800702</td>\n",
       "      <td>0.715252</td>\n",
       "      <td>0.780534</td>\n",
       "      <td>-0.719321</td>\n",
       "      <td>0.832644</td>\n",
       "    </tr>\n",
       "    <tr>\n",
       "      <th>Fuel Consumption City (L/100 km)</th>\n",
       "      <td>0.831379</td>\n",
       "      <td>0.800702</td>\n",
       "      <td>1.000000</td>\n",
       "      <td>0.948180</td>\n",
       "      <td>0.993810</td>\n",
       "      <td>-0.927059</td>\n",
       "      <td>0.919592</td>\n",
       "    </tr>\n",
       "    <tr>\n",
       "      <th>Fuel Consumption Hwy (L/100 km)</th>\n",
       "      <td>0.761526</td>\n",
       "      <td>0.715252</td>\n",
       "      <td>0.948180</td>\n",
       "      <td>1.000000</td>\n",
       "      <td>0.977299</td>\n",
       "      <td>-0.890638</td>\n",
       "      <td>0.883536</td>\n",
       "    </tr>\n",
       "    <tr>\n",
       "      <th>Fuel Consumption Comb (L/100 km)</th>\n",
       "      <td>0.817060</td>\n",
       "      <td>0.780534</td>\n",
       "      <td>0.993810</td>\n",
       "      <td>0.977299</td>\n",
       "      <td>1.000000</td>\n",
       "      <td>-0.925576</td>\n",
       "      <td>0.918052</td>\n",
       "    </tr>\n",
       "    <tr>\n",
       "      <th>Fuel Consumption Comb (mpg)</th>\n",
       "      <td>-0.757854</td>\n",
       "      <td>-0.719321</td>\n",
       "      <td>-0.927059</td>\n",
       "      <td>-0.890638</td>\n",
       "      <td>-0.925576</td>\n",
       "      <td>1.000000</td>\n",
       "      <td>-0.907426</td>\n",
       "    </tr>\n",
       "    <tr>\n",
       "      <th>CO2 Emissions(g/km)</th>\n",
       "      <td>0.851145</td>\n",
       "      <td>0.832644</td>\n",
       "      <td>0.919592</td>\n",
       "      <td>0.883536</td>\n",
       "      <td>0.918052</td>\n",
       "      <td>-0.907426</td>\n",
       "      <td>1.000000</td>\n",
       "    </tr>\n",
       "  </tbody>\n",
       "</table>\n",
       "</div>"
      ],
      "text/plain": [
       "                                  Engine Size(L)  Cylinders  \\\n",
       "Engine Size(L)                          1.000000   0.927653   \n",
       "Cylinders                               0.927653   1.000000   \n",
       "Fuel Consumption City (L/100 km)        0.831379   0.800702   \n",
       "Fuel Consumption Hwy (L/100 km)         0.761526   0.715252   \n",
       "Fuel Consumption Comb (L/100 km)        0.817060   0.780534   \n",
       "Fuel Consumption Comb (mpg)            -0.757854  -0.719321   \n",
       "CO2 Emissions(g/km)                     0.851145   0.832644   \n",
       "\n",
       "                                  Fuel Consumption City (L/100 km)  \\\n",
       "Engine Size(L)                                            0.831379   \n",
       "Cylinders                                                 0.800702   \n",
       "Fuel Consumption City (L/100 km)                          1.000000   \n",
       "Fuel Consumption Hwy (L/100 km)                           0.948180   \n",
       "Fuel Consumption Comb (L/100 km)                          0.993810   \n",
       "Fuel Consumption Comb (mpg)                              -0.927059   \n",
       "CO2 Emissions(g/km)                                       0.919592   \n",
       "\n",
       "                                  Fuel Consumption Hwy (L/100 km)  \\\n",
       "Engine Size(L)                                           0.761526   \n",
       "Cylinders                                                0.715252   \n",
       "Fuel Consumption City (L/100 km)                         0.948180   \n",
       "Fuel Consumption Hwy (L/100 km)                          1.000000   \n",
       "Fuel Consumption Comb (L/100 km)                         0.977299   \n",
       "Fuel Consumption Comb (mpg)                             -0.890638   \n",
       "CO2 Emissions(g/km)                                      0.883536   \n",
       "\n",
       "                                  Fuel Consumption Comb (L/100 km)  \\\n",
       "Engine Size(L)                                            0.817060   \n",
       "Cylinders                                                 0.780534   \n",
       "Fuel Consumption City (L/100 km)                          0.993810   \n",
       "Fuel Consumption Hwy (L/100 km)                           0.977299   \n",
       "Fuel Consumption Comb (L/100 km)                          1.000000   \n",
       "Fuel Consumption Comb (mpg)                              -0.925576   \n",
       "CO2 Emissions(g/km)                                       0.918052   \n",
       "\n",
       "                                  Fuel Consumption Comb (mpg)  \\\n",
       "Engine Size(L)                                      -0.757854   \n",
       "Cylinders                                           -0.719321   \n",
       "Fuel Consumption City (L/100 km)                    -0.927059   \n",
       "Fuel Consumption Hwy (L/100 km)                     -0.890638   \n",
       "Fuel Consumption Comb (L/100 km)                    -0.925576   \n",
       "Fuel Consumption Comb (mpg)                          1.000000   \n",
       "CO2 Emissions(g/km)                                 -0.907426   \n",
       "\n",
       "                                  CO2 Emissions(g/km)  \n",
       "Engine Size(L)                               0.851145  \n",
       "Cylinders                                    0.832644  \n",
       "Fuel Consumption City (L/100 km)             0.919592  \n",
       "Fuel Consumption Hwy (L/100 km)              0.883536  \n",
       "Fuel Consumption Comb (L/100 km)             0.918052  \n",
       "Fuel Consumption Comb (mpg)                 -0.907426  \n",
       "CO2 Emissions(g/km)                          1.000000  "
      ]
     },
     "execution_count": 21,
     "metadata": {},
     "output_type": "execute_result"
    }
   ],
   "source": [
    "corr_matrix  = df_vars[corr_matrix_var].corr()\n",
    "corr_matrix"
   ]
  },
  {
   "cell_type": "code",
   "execution_count": 22,
   "metadata": {},
   "outputs": [
    {
     "data": {
      "image/png": "[encoded data removed]",
      "text/plain": [
       "<Figure size 288x288 with 2 Axes>"
      ]
     },
     "metadata": {
      "needs_background": "light"
     },
     "output_type": "display_data"
    }
   ],
   "source": [
    "# Grafico de la matriz de correlacion\n",
    "\n",
    "plt.rcParams['axes.grid'] = False  # Eliminar lineas dentro del grafico\n",
    "\n",
    "plt.matshow(corr_matrix, cmap='coolwarm', vmin=-1, vmax=1)\n",
    "\n",
    "# Colocar nombres de variables en los ejes\n",
    "plt.xticks(np.arange(corr_matrix.shape[0]), corr_matrix.columns, rotation=90)\n",
    "plt.yticks(np.arange(corr_matrix.shape[0]), corr_matrix.columns)\n",
    "\n",
    "plt.colorbar() # Agregar un barra de colores como leyenda\n",
    "\n",
    "plt.show()"
   ]
  },
  {
   "cell_type": "markdown",
   "metadata": {},
   "source": [
    "#### Según lo encontrado, la mayor correlación (0.9195) se da entre el \"consumo de combustible en ciudad(Fuel Consumption City (L/100 km)) \" y las emisiones de CO2 (g/km)"
   ]
  },
  {
   "cell_type": "markdown",
   "metadata": {},
   "source": [
    "## 3. ¿Cuál es la marca de auto con mayor número de unidades?"
   ]
  },
  {
   "cell_type": "code",
   "execution_count": 23,
   "metadata": {},
   "outputs": [
    {
     "data": {
      "text/html": [
       "<div>\n",
       "<style scoped>\n",
       "    .dataframe tbody tr th:only-of-type {\n",
       "        vertical-align: middle;\n",
       "    }\n",
       "\n",
       "    .dataframe tbody tr th {\n",
       "        vertical-align: top;\n",
       "    }\n",
       "\n",
       "    .dataframe thead th {\n",
       "        text-align: right;\n",
       "    }\n",
       "</style>\n",
       "<table border=\"1\" class=\"dataframe\">\n",
       "  <thead>\n",
       "    <tr style=\"text-align: right;\">\n",
       "      <th></th>\n",
       "      <th>Make</th>\n",
       "      <th>Engine Size(L)</th>\n",
       "      <th>conteo</th>\n",
       "    </tr>\n",
       "  </thead>\n",
       "  <tbody>\n",
       "    <tr>\n",
       "      <th>0</th>\n",
       "      <td>ACURA</td>\n",
       "      <td>1.5</td>\n",
       "      <td>2</td>\n",
       "    </tr>\n",
       "    <tr>\n",
       "      <th>1</th>\n",
       "      <td>ACURA</td>\n",
       "      <td>2.0</td>\n",
       "      <td>6</td>\n",
       "    </tr>\n",
       "    <tr>\n",
       "      <th>2</th>\n",
       "      <td>ACURA</td>\n",
       "      <td>2.4</td>\n",
       "      <td>17</td>\n",
       "    </tr>\n",
       "    <tr>\n",
       "      <th>3</th>\n",
       "      <td>ACURA</td>\n",
       "      <td>3.0</td>\n",
       "      <td>4</td>\n",
       "    </tr>\n",
       "    <tr>\n",
       "      <th>4</th>\n",
       "      <td>ACURA</td>\n",
       "      <td>3.5</td>\n",
       "      <td>41</td>\n",
       "    </tr>\n",
       "  </tbody>\n",
       "</table>\n",
       "</div>"
      ],
      "text/plain": [
       "    Make  Engine Size(L)  conteo\n",
       "0  ACURA             1.5       2\n",
       "1  ACURA             2.0       6\n",
       "2  ACURA             2.4      17\n",
       "3  ACURA             3.0       4\n",
       "4  ACURA             3.5      41"
      ]
     },
     "execution_count": 23,
     "metadata": {},
     "output_type": "execute_result"
    }
   ],
   "source": [
    "conteo_marca_cil = (df[['Make', 'Engine Size(L)']].dropna() # Seleccion de columna y elimino NaNs\n",
    "                      .groupby(['Make', 'Engine Size(L)']).size() # Agrupo y cuento las obs. por intervalo de edad y sexo \n",
    "                      .reset_index() # Convierte a df \n",
    "                      .rename({0: 'conteo'}, axis=1)) # Cambia el nombre de \"0\" a \"conteo\"\n",
    "conteo_marca_cil.head()"
   ]
  },
  {
   "cell_type": "code",
   "execution_count": 24,
   "metadata": {},
   "outputs": [
    {
     "data": {
      "text/plain": [
       "FORD             628\n",
       "CHEVROLET        588\n",
       "BMW              527\n",
       "MERCEDES-BENZ    419\n",
       "PORSCHE          376\n",
       "TOYOTA           330\n",
       "GMC              328\n",
       "AUDI             286\n",
       "NISSAN           259\n",
       "JEEP             251\n",
       "DODGE            246\n",
       "KIA              231\n",
       "HONDA            214\n",
       "HYUNDAI          210\n",
       "MINI             204\n",
       "VOLKSWAGEN       197\n",
       "MAZDA            180\n",
       "LEXUS            178\n",
       "JAGUAR           160\n",
       "CADILLAC         158\n",
       "SUBARU           140\n",
       "VOLVO            124\n",
       "INFINITI         108\n",
       "BUICK            103\n",
       "RAM               97\n",
       "LINCOLN           96\n",
       "MITSUBISHI        95\n",
       "CHRYSLER          88\n",
       "LAND ROVER        85\n",
       "FIAT              73\n",
       "ACURA             72\n",
       "MASERATI          61\n",
       "ROLLS-ROYCE       50\n",
       "ASTON MARTIN      47\n",
       "BENTLEY           46\n",
       "LAMBORGHINI       41\n",
       "ALFA ROMEO        30\n",
       "GENESIS           25\n",
       "SCION             22\n",
       "SMART              7\n",
       "BUGATTI            3\n",
       "SRT                2\n",
       "Name: Make, dtype: int64"
      ]
     },
     "execution_count": 24,
     "metadata": {},
     "output_type": "execute_result"
    }
   ],
   "source": [
    "df_marca = df['Make'].value_counts()\n",
    "df_marca"
   ]
  },
  {
   "cell_type": "markdown",
   "metadata": {},
   "source": [
    "#### Aquí  se aprecia que la marca de autos con mayor unidades Ford, por lo que harémos un análisis de sus unidades."
   ]
  },
  {
   "cell_type": "code",
   "execution_count": 25,
   "metadata": {},
   "outputs": [
    {
     "data": {
      "text/html": [
       "<div>\n",
       "<style scoped>\n",
       "    .dataframe tbody tr th:only-of-type {\n",
       "        vertical-align: middle;\n",
       "    }\n",
       "\n",
       "    .dataframe tbody tr th {\n",
       "        vertical-align: top;\n",
       "    }\n",
       "\n",
       "    .dataframe thead th {\n",
       "        text-align: right;\n",
       "    }\n",
       "</style>\n",
       "<table border=\"1\" class=\"dataframe\">\n",
       "  <thead>\n",
       "    <tr style=\"text-align: right;\">\n",
       "      <th></th>\n",
       "      <th>co2_bins</th>\n",
       "      <th>Make</th>\n",
       "      <th>conteo</th>\n",
       "    </tr>\n",
       "  </thead>\n",
       "  <tbody>\n",
       "    <tr>\n",
       "      <th>0</th>\n",
       "      <td>(95, 154]</td>\n",
       "      <td>ACURA</td>\n",
       "      <td>2</td>\n",
       "    </tr>\n",
       "    <tr>\n",
       "      <th>1</th>\n",
       "      <td>(95, 154]</td>\n",
       "      <td>ALFA ROMEO</td>\n",
       "      <td>0</td>\n",
       "    </tr>\n",
       "    <tr>\n",
       "      <th>2</th>\n",
       "      <td>(95, 154]</td>\n",
       "      <td>ASTON MARTIN</td>\n",
       "      <td>0</td>\n",
       "    </tr>\n",
       "    <tr>\n",
       "      <th>3</th>\n",
       "      <td>(95, 154]</td>\n",
       "      <td>AUDI</td>\n",
       "      <td>0</td>\n",
       "    </tr>\n",
       "    <tr>\n",
       "      <th>4</th>\n",
       "      <td>(95, 154]</td>\n",
       "      <td>BENTLEY</td>\n",
       "      <td>0</td>\n",
       "    </tr>\n",
       "  </tbody>\n",
       "</table>\n",
       "</div>"
      ],
      "text/plain": [
       "    co2_bins          Make  conteo\n",
       "0  (95, 154]         ACURA       2\n",
       "1  (95, 154]    ALFA ROMEO       0\n",
       "2  (95, 154]  ASTON MARTIN       0\n",
       "3  (95, 154]          AUDI       0\n",
       "4  (95, 154]       BENTLEY       0"
      ]
     },
     "execution_count": 25,
     "metadata": {},
     "output_type": "execute_result"
    }
   ],
   "source": [
    "conteo_co2_x_marca = (df[['co2_bins', 'Make']].dropna() # Seleccion de columna y elimino NaNs\n",
    "                      .groupby(['co2_bins', 'Make']).size() # Agrupo y cuento las obs. por intervalo de edad y sexo \n",
    "                      .reset_index() # Convierte a df \n",
    "                      .rename({0: 'conteo'}, axis=1)) # Cambia el nombre de \"0\" a \"conteo\"\n",
    "conteo_co2_x_marca.head()"
   ]
  },
  {
   "cell_type": "code",
   "execution_count": 26,
   "metadata": {},
   "outputs": [
    {
     "data": {
      "text/html": [
       "<div>\n",
       "<style scoped>\n",
       "    .dataframe tbody tr th:only-of-type {\n",
       "        vertical-align: middle;\n",
       "    }\n",
       "\n",
       "    .dataframe tbody tr th {\n",
       "        vertical-align: top;\n",
       "    }\n",
       "\n",
       "    .dataframe thead th {\n",
       "        text-align: right;\n",
       "    }\n",
       "</style>\n",
       "<table border=\"1\" class=\"dataframe\">\n",
       "  <thead>\n",
       "    <tr style=\"text-align: right;\">\n",
       "      <th></th>\n",
       "      <th>co2_bins</th>\n",
       "      <th>Make</th>\n",
       "      <th>conteo</th>\n",
       "    </tr>\n",
       "  </thead>\n",
       "  <tbody>\n",
       "    <tr>\n",
       "      <th>0</th>\n",
       "      <td>(95, 154]</td>\n",
       "      <td>ACURA</td>\n",
       "      <td>2</td>\n",
       "    </tr>\n",
       "    <tr>\n",
       "      <th>9</th>\n",
       "      <td>(95, 154]</td>\n",
       "      <td>CHEVROLET</td>\n",
       "      <td>4</td>\n",
       "    </tr>\n",
       "    <tr>\n",
       "      <th>13</th>\n",
       "      <td>(95, 154]</td>\n",
       "      <td>FORD</td>\n",
       "      <td>17</td>\n",
       "    </tr>\n",
       "    <tr>\n",
       "      <th>16</th>\n",
       "      <td>(95, 154]</td>\n",
       "      <td>HONDA</td>\n",
       "      <td>20</td>\n",
       "    </tr>\n",
       "    <tr>\n",
       "      <th>17</th>\n",
       "      <td>(95, 154]</td>\n",
       "      <td>HYUNDAI</td>\n",
       "      <td>21</td>\n",
       "    </tr>\n",
       "    <tr>\n",
       "      <th>...</th>\n",
       "      <td>...</td>\n",
       "      <td>...</td>\n",
       "      <td>...</td>\n",
       "    </tr>\n",
       "    <tr>\n",
       "      <th>163</th>\n",
       "      <td>(270, 523]</td>\n",
       "      <td>SRT</td>\n",
       "      <td>2</td>\n",
       "    </tr>\n",
       "    <tr>\n",
       "      <th>164</th>\n",
       "      <td>(270, 523]</td>\n",
       "      <td>SUBARU</td>\n",
       "      <td>10</td>\n",
       "    </tr>\n",
       "    <tr>\n",
       "      <th>165</th>\n",
       "      <td>(270, 523]</td>\n",
       "      <td>TOYOTA</td>\n",
       "      <td>88</td>\n",
       "    </tr>\n",
       "    <tr>\n",
       "      <th>166</th>\n",
       "      <td>(270, 523]</td>\n",
       "      <td>VOLKSWAGEN</td>\n",
       "      <td>13</td>\n",
       "    </tr>\n",
       "    <tr>\n",
       "      <th>167</th>\n",
       "      <td>(270, 523]</td>\n",
       "      <td>VOLVO</td>\n",
       "      <td>6</td>\n",
       "    </tr>\n",
       "  </tbody>\n",
       "</table>\n",
       "<p>119 rows × 3 columns</p>\n",
       "</div>"
      ],
      "text/plain": [
       "       co2_bins        Make  conteo\n",
       "0     (95, 154]       ACURA       2\n",
       "9     (95, 154]   CHEVROLET       4\n",
       "13    (95, 154]        FORD      17\n",
       "16    (95, 154]       HONDA      20\n",
       "17    (95, 154]     HYUNDAI      21\n",
       "..          ...         ...     ...\n",
       "163  (270, 523]         SRT       2\n",
       "164  (270, 523]      SUBARU      10\n",
       "165  (270, 523]      TOYOTA      88\n",
       "166  (270, 523]  VOLKSWAGEN      13\n",
       "167  (270, 523]       VOLVO       6\n",
       "\n",
       "[119 rows x 3 columns]"
      ]
     },
     "execution_count": 26,
     "metadata": {},
     "output_type": "execute_result"
    }
   ],
   "source": [
    "conteo_co2_x_marca = conteo_co2_x_marca[conteo_co2_x_marca.conteo != 0]\n",
    "conteo_co2_x_marca"
   ]
  },
  {
   "cell_type": "markdown",
   "metadata": {},
   "source": [
    "- # **Emisión de Co2 en vehículos marca Ford**\n",
    " ### 1. ¿Qué tipo de combustible usan los vehículos de la marca Ford?"
   ]
  },
  {
   "cell_type": "code",
   "execution_count": 27,
   "metadata": {},
   "outputs": [
    {
     "data": {
      "text/html": [
       "<div>\n",
       "<style scoped>\n",
       "    .dataframe tbody tr th:only-of-type {\n",
       "        vertical-align: middle;\n",
       "    }\n",
       "\n",
       "    .dataframe tbody tr th {\n",
       "        vertical-align: top;\n",
       "    }\n",
       "\n",
       "    .dataframe thead th {\n",
       "        text-align: right;\n",
       "    }\n",
       "</style>\n",
       "<table border=\"1\" class=\"dataframe\">\n",
       "  <thead>\n",
       "    <tr style=\"text-align: right;\">\n",
       "      <th></th>\n",
       "      <th>Make</th>\n",
       "      <th>Model</th>\n",
       "      <th>Vehicle Class</th>\n",
       "      <th>Engine Size(L)</th>\n",
       "      <th>Cylinders</th>\n",
       "      <th>Transmission</th>\n",
       "      <th>Fuel Type</th>\n",
       "      <th>Fuel Consumption City (L/100 km)</th>\n",
       "      <th>Fuel Consumption Hwy (L/100 km)</th>\n",
       "      <th>Fuel Consumption Comb (L/100 km)</th>\n",
       "      <th>Fuel Consumption Comb (mpg)</th>\n",
       "      <th>CO2 Emissions(g/km)</th>\n",
       "      <th>co2_bins</th>\n",
       "    </tr>\n",
       "  </thead>\n",
       "  <tbody>\n",
       "    <tr>\n",
       "      <th>342</th>\n",
       "      <td>FORD</td>\n",
       "      <td>C-MAX HYBRID</td>\n",
       "      <td>FULL-SIZE</td>\n",
       "      <td>2.0</td>\n",
       "      <td>4</td>\n",
       "      <td>AV</td>\n",
       "      <td>X</td>\n",
       "      <td>5.6</td>\n",
       "      <td>6.4</td>\n",
       "      <td>6.0</td>\n",
       "      <td>47</td>\n",
       "      <td>138</td>\n",
       "      <td>(95, 154]</td>\n",
       "    </tr>\n",
       "    <tr>\n",
       "      <th>343</th>\n",
       "      <td>FORD</td>\n",
       "      <td>E150 VAN FFV</td>\n",
       "      <td>VAN - CARGO</td>\n",
       "      <td>4.6</td>\n",
       "      <td>8</td>\n",
       "      <td>A4</td>\n",
       "      <td>X</td>\n",
       "      <td>17.7</td>\n",
       "      <td>14.4</td>\n",
       "      <td>16.2</td>\n",
       "      <td>17</td>\n",
       "      <td>373</td>\n",
       "      <td>(270, 523]</td>\n",
       "    </tr>\n",
       "    <tr>\n",
       "      <th>344</th>\n",
       "      <td>FORD</td>\n",
       "      <td>E150 VAN FFV</td>\n",
       "      <td>VAN - CARGO</td>\n",
       "      <td>4.6</td>\n",
       "      <td>8</td>\n",
       "      <td>A4</td>\n",
       "      <td>E</td>\n",
       "      <td>24.1</td>\n",
       "      <td>19.2</td>\n",
       "      <td>21.9</td>\n",
       "      <td>13</td>\n",
       "      <td>350</td>\n",
       "      <td>(270, 523]</td>\n",
       "    </tr>\n",
       "    <tr>\n",
       "      <th>345</th>\n",
       "      <td>FORD</td>\n",
       "      <td>E150 VAN FFV</td>\n",
       "      <td>VAN - CARGO</td>\n",
       "      <td>5.4</td>\n",
       "      <td>8</td>\n",
       "      <td>A4</td>\n",
       "      <td>X</td>\n",
       "      <td>19.3</td>\n",
       "      <td>14.7</td>\n",
       "      <td>17.2</td>\n",
       "      <td>16</td>\n",
       "      <td>396</td>\n",
       "      <td>(270, 523]</td>\n",
       "    </tr>\n",
       "    <tr>\n",
       "      <th>346</th>\n",
       "      <td>FORD</td>\n",
       "      <td>E150 VAN FFV</td>\n",
       "      <td>VAN - CARGO</td>\n",
       "      <td>5.4</td>\n",
       "      <td>8</td>\n",
       "      <td>A4</td>\n",
       "      <td>E</td>\n",
       "      <td>24.9</td>\n",
       "      <td>19.6</td>\n",
       "      <td>22.5</td>\n",
       "      <td>13</td>\n",
       "      <td>360</td>\n",
       "      <td>(270, 523]</td>\n",
       "    </tr>\n",
       "    <tr>\n",
       "      <th>...</th>\n",
       "      <td>...</td>\n",
       "      <td>...</td>\n",
       "      <td>...</td>\n",
       "      <td>...</td>\n",
       "      <td>...</td>\n",
       "      <td>...</td>\n",
       "      <td>...</td>\n",
       "      <td>...</td>\n",
       "      <td>...</td>\n",
       "      <td>...</td>\n",
       "      <td>...</td>\n",
       "      <td>...</td>\n",
       "      <td>...</td>\n",
       "    </tr>\n",
       "    <tr>\n",
       "      <th>6840</th>\n",
       "      <td>FORD</td>\n",
       "      <td>Transit Connect Van LWB</td>\n",
       "      <td>SPECIAL PURPOSE VEHICLE</td>\n",
       "      <td>2.5</td>\n",
       "      <td>4</td>\n",
       "      <td>AS6</td>\n",
       "      <td>X</td>\n",
       "      <td>12.0</td>\n",
       "      <td>8.8</td>\n",
       "      <td>10.6</td>\n",
       "      <td>27</td>\n",
       "      <td>247</td>\n",
       "      <td>(212, 270]</td>\n",
       "    </tr>\n",
       "    <tr>\n",
       "      <th>6841</th>\n",
       "      <td>FORD</td>\n",
       "      <td>Transit Connect Wagon LWB</td>\n",
       "      <td>SPECIAL PURPOSE VEHICLE</td>\n",
       "      <td>2.0</td>\n",
       "      <td>4</td>\n",
       "      <td>AS8</td>\n",
       "      <td>X</td>\n",
       "      <td>9.9</td>\n",
       "      <td>8.2</td>\n",
       "      <td>9.2</td>\n",
       "      <td>31</td>\n",
       "      <td>214</td>\n",
       "      <td>(212, 270]</td>\n",
       "    </tr>\n",
       "    <tr>\n",
       "      <th>6842</th>\n",
       "      <td>FORD</td>\n",
       "      <td>Transit Connect Wagon LWB FFV</td>\n",
       "      <td>SPECIAL PURPOSE VEHICLE</td>\n",
       "      <td>2.0</td>\n",
       "      <td>4</td>\n",
       "      <td>AS8</td>\n",
       "      <td>X</td>\n",
       "      <td>9.9</td>\n",
       "      <td>8.2</td>\n",
       "      <td>9.2</td>\n",
       "      <td>31</td>\n",
       "      <td>214</td>\n",
       "      <td>(212, 270]</td>\n",
       "    </tr>\n",
       "    <tr>\n",
       "      <th>6843</th>\n",
       "      <td>FORD</td>\n",
       "      <td>Transit Connect Wagon LWB FFV</td>\n",
       "      <td>SPECIAL PURPOSE VEHICLE</td>\n",
       "      <td>2.0</td>\n",
       "      <td>4</td>\n",
       "      <td>AS8</td>\n",
       "      <td>E</td>\n",
       "      <td>13.7</td>\n",
       "      <td>11.1</td>\n",
       "      <td>12.5</td>\n",
       "      <td>23</td>\n",
       "      <td>208</td>\n",
       "      <td>(154, 212]</td>\n",
       "    </tr>\n",
       "    <tr>\n",
       "      <th>6844</th>\n",
       "      <td>FORD</td>\n",
       "      <td>Transit Connect Wagon LWB</td>\n",
       "      <td>SPECIAL PURPOSE VEHICLE</td>\n",
       "      <td>2.5</td>\n",
       "      <td>4</td>\n",
       "      <td>AS6</td>\n",
       "      <td>X</td>\n",
       "      <td>12.1</td>\n",
       "      <td>9.0</td>\n",
       "      <td>10.7</td>\n",
       "      <td>26</td>\n",
       "      <td>251</td>\n",
       "      <td>(212, 270]</td>\n",
       "    </tr>\n",
       "  </tbody>\n",
       "</table>\n",
       "<p>628 rows × 13 columns</p>\n",
       "</div>"
      ],
      "text/plain": [
       "      Make                          Model            Vehicle Class  \\\n",
       "342   FORD                   C-MAX HYBRID                FULL-SIZE   \n",
       "343   FORD                   E150 VAN FFV              VAN - CARGO   \n",
       "344   FORD                   E150 VAN FFV              VAN - CARGO   \n",
       "345   FORD                   E150 VAN FFV              VAN - CARGO   \n",
       "346   FORD                   E150 VAN FFV              VAN - CARGO   \n",
       "...    ...                            ...                      ...   \n",
       "6840  FORD        Transit Connect Van LWB  SPECIAL PURPOSE VEHICLE   \n",
       "6841  FORD      Transit Connect Wagon LWB  SPECIAL PURPOSE VEHICLE   \n",
       "6842  FORD  Transit Connect Wagon LWB FFV  SPECIAL PURPOSE VEHICLE   \n",
       "6843  FORD  Transit Connect Wagon LWB FFV  SPECIAL PURPOSE VEHICLE   \n",
       "6844  FORD      Transit Connect Wagon LWB  SPECIAL PURPOSE VEHICLE   \n",
       "\n",
       "      Engine Size(L)  Cylinders Transmission Fuel Type  \\\n",
       "342              2.0          4           AV         X   \n",
       "343              4.6          8           A4         X   \n",
       "344              4.6          8           A4         E   \n",
       "345              5.4          8           A4         X   \n",
       "346              5.4          8           A4         E   \n",
       "...              ...        ...          ...       ...   \n",
       "6840             2.5          4          AS6         X   \n",
       "6841             2.0          4          AS8         X   \n",
       "6842             2.0          4          AS8         X   \n",
       "6843             2.0          4          AS8         E   \n",
       "6844             2.5          4          AS6         X   \n",
       "\n",
       "      Fuel Consumption City (L/100 km)  Fuel Consumption Hwy (L/100 km)  \\\n",
       "342                                5.6                              6.4   \n",
       "343                               17.7                             14.4   \n",
       "344                               24.1                             19.2   \n",
       "345                               19.3                             14.7   \n",
       "346                               24.9                             19.6   \n",
       "...                                ...                              ...   \n",
       "6840                              12.0                              8.8   \n",
       "6841                               9.9                              8.2   \n",
       "6842                               9.9                              8.2   \n",
       "6843                              13.7                             11.1   \n",
       "6844                              12.1                              9.0   \n",
       "\n",
       "      Fuel Consumption Comb (L/100 km)  Fuel Consumption Comb (mpg)  \\\n",
       "342                                6.0                           47   \n",
       "343                               16.2                           17   \n",
       "344                               21.9                           13   \n",
       "345                               17.2                           16   \n",
       "346                               22.5                           13   \n",
       "...                                ...                          ...   \n",
       "6840                              10.6                           27   \n",
       "6841                               9.2                           31   \n",
       "6842                               9.2                           31   \n",
       "6843                              12.5                           23   \n",
       "6844                              10.7                           26   \n",
       "\n",
       "      CO2 Emissions(g/km)    co2_bins  \n",
       "342                   138   (95, 154]  \n",
       "343                   373  (270, 523]  \n",
       "344                   350  (270, 523]  \n",
       "345                   396  (270, 523]  \n",
       "346                   360  (270, 523]  \n",
       "...                   ...         ...  \n",
       "6840                  247  (212, 270]  \n",
       "6841                  214  (212, 270]  \n",
       "6842                  214  (212, 270]  \n",
       "6843                  208  (154, 212]  \n",
       "6844                  251  (212, 270]  \n",
       "\n",
       "[628 rows x 13 columns]"
      ]
     },
     "execution_count": 27,
     "metadata": {},
     "output_type": "execute_result"
    }
   ],
   "source": [
    "extraer_ford = df[df.Make == 'FORD']\n",
    "extraer_ford"
   ]
  },
  {
   "cell_type": "code",
   "execution_count": 28,
   "metadata": {},
   "outputs": [
    {
     "data": {
      "text/html": [
       "<div>\n",
       "<style scoped>\n",
       "    .dataframe tbody tr th:only-of-type {\n",
       "        vertical-align: middle;\n",
       "    }\n",
       "\n",
       "    .dataframe tbody tr th {\n",
       "        vertical-align: top;\n",
       "    }\n",
       "\n",
       "    .dataframe thead th {\n",
       "        text-align: right;\n",
       "    }\n",
       "</style>\n",
       "<table border=\"1\" class=\"dataframe\">\n",
       "  <thead>\n",
       "    <tr style=\"text-align: right;\">\n",
       "      <th></th>\n",
       "      <th>co2_bins</th>\n",
       "      <th>Fuel Type</th>\n",
       "      <th>conteo</th>\n",
       "    </tr>\n",
       "  </thead>\n",
       "  <tbody>\n",
       "    <tr>\n",
       "      <th>0</th>\n",
       "      <td>(95, 154]</td>\n",
       "      <td>D</td>\n",
       "      <td>0</td>\n",
       "    </tr>\n",
       "    <tr>\n",
       "      <th>1</th>\n",
       "      <td>(95, 154]</td>\n",
       "      <td>E</td>\n",
       "      <td>0</td>\n",
       "    </tr>\n",
       "    <tr>\n",
       "      <th>2</th>\n",
       "      <td>(95, 154]</td>\n",
       "      <td>X</td>\n",
       "      <td>17</td>\n",
       "    </tr>\n",
       "    <tr>\n",
       "      <th>3</th>\n",
       "      <td>(95, 154]</td>\n",
       "      <td>Z</td>\n",
       "      <td>0</td>\n",
       "    </tr>\n",
       "    <tr>\n",
       "      <th>4</th>\n",
       "      <td>(154, 212]</td>\n",
       "      <td>D</td>\n",
       "      <td>0</td>\n",
       "    </tr>\n",
       "  </tbody>\n",
       "</table>\n",
       "</div>"
      ],
      "text/plain": [
       "     co2_bins Fuel Type  conteo\n",
       "0   (95, 154]         D       0\n",
       "1   (95, 154]         E       0\n",
       "2   (95, 154]         X      17\n",
       "3   (95, 154]         Z       0\n",
       "4  (154, 212]         D       0"
      ]
     },
     "execution_count": 28,
     "metadata": {},
     "output_type": "execute_result"
    }
   ],
   "source": [
    "ford_co2_x_fuel = (extraer_ford[['co2_bins', 'Fuel Type']].dropna() # Seleccion de columna y elimino NaNs\n",
    "                      .groupby(['co2_bins', 'Fuel Type']).size() # Agrupo y cuento las obs. por intervalo de edad y sexo \n",
    "                      .reset_index() # Convierte a df \n",
    "                      .rename({0: 'conteo'}, axis=1)) # Cambia el nombre de \"0\" a \"conteo\"\n",
    "ford_co2_x_fuel.head()"
   ]
  },
  {
   "cell_type": "code",
   "execution_count": 29,
   "metadata": {},
   "outputs": [
    {
     "data": {
      "text/html": [
       "<div>\n",
       "<style scoped>\n",
       "    .dataframe tbody tr th:only-of-type {\n",
       "        vertical-align: middle;\n",
       "    }\n",
       "\n",
       "    .dataframe tbody tr th {\n",
       "        vertical-align: top;\n",
       "    }\n",
       "\n",
       "    .dataframe thead th {\n",
       "        text-align: right;\n",
       "    }\n",
       "</style>\n",
       "<table border=\"1\" class=\"dataframe\">\n",
       "  <thead>\n",
       "    <tr style=\"text-align: right;\">\n",
       "      <th></th>\n",
       "      <th>co2_bins</th>\n",
       "      <th>Fuel Type</th>\n",
       "      <th>conteo</th>\n",
       "    </tr>\n",
       "  </thead>\n",
       "  <tbody>\n",
       "    <tr>\n",
       "      <th>2</th>\n",
       "      <td>(95, 154]</td>\n",
       "      <td>X</td>\n",
       "      <td>17</td>\n",
       "    </tr>\n",
       "    <tr>\n",
       "      <th>5</th>\n",
       "      <td>(154, 212]</td>\n",
       "      <td>E</td>\n",
       "      <td>17</td>\n",
       "    </tr>\n",
       "    <tr>\n",
       "      <th>6</th>\n",
       "      <td>(154, 212]</td>\n",
       "      <td>X</td>\n",
       "      <td>74</td>\n",
       "    </tr>\n",
       "    <tr>\n",
       "      <th>8</th>\n",
       "      <td>(212, 270]</td>\n",
       "      <td>D</td>\n",
       "      <td>9</td>\n",
       "    </tr>\n",
       "    <tr>\n",
       "      <th>9</th>\n",
       "      <td>(212, 270]</td>\n",
       "      <td>E</td>\n",
       "      <td>42</td>\n",
       "    </tr>\n",
       "    <tr>\n",
       "      <th>10</th>\n",
       "      <td>(212, 270]</td>\n",
       "      <td>X</td>\n",
       "      <td>187</td>\n",
       "    </tr>\n",
       "    <tr>\n",
       "      <th>11</th>\n",
       "      <td>(212, 270]</td>\n",
       "      <td>Z</td>\n",
       "      <td>3</td>\n",
       "    </tr>\n",
       "    <tr>\n",
       "      <th>12</th>\n",
       "      <td>(270, 523]</td>\n",
       "      <td>D</td>\n",
       "      <td>5</td>\n",
       "    </tr>\n",
       "    <tr>\n",
       "      <th>13</th>\n",
       "      <td>(270, 523]</td>\n",
       "      <td>E</td>\n",
       "      <td>52</td>\n",
       "    </tr>\n",
       "    <tr>\n",
       "      <th>14</th>\n",
       "      <td>(270, 523]</td>\n",
       "      <td>X</td>\n",
       "      <td>211</td>\n",
       "    </tr>\n",
       "    <tr>\n",
       "      <th>15</th>\n",
       "      <td>(270, 523]</td>\n",
       "      <td>Z</td>\n",
       "      <td>11</td>\n",
       "    </tr>\n",
       "  </tbody>\n",
       "</table>\n",
       "</div>"
      ],
      "text/plain": [
       "      co2_bins Fuel Type  conteo\n",
       "2    (95, 154]         X      17\n",
       "5   (154, 212]         E      17\n",
       "6   (154, 212]         X      74\n",
       "8   (212, 270]         D       9\n",
       "9   (212, 270]         E      42\n",
       "10  (212, 270]         X     187\n",
       "11  (212, 270]         Z       3\n",
       "12  (270, 523]         D       5\n",
       "13  (270, 523]         E      52\n",
       "14  (270, 523]         X     211\n",
       "15  (270, 523]         Z      11"
      ]
     },
     "execution_count": 29,
     "metadata": {},
     "output_type": "execute_result"
    }
   ],
   "source": [
    "ford_co2_x_fuel_sina = ford_co2_x_fuel[ford_co2_x_fuel.conteo != 0]\n",
    "ford_co2_x_fuel_sina"
   ]
  },
  {
   "cell_type": "markdown",
   "metadata": {},
   "source": [
    "2. ### ¿Cuál es el tipo de combustible(Fuel Type) predominante en los autos FORD que tienen más emisiones de CO2?"
   ]
  },
  {
   "cell_type": "code",
   "execution_count": 30,
   "metadata": {},
   "outputs": [
    {
     "data": {
      "image/png": "[encoded data removed]",
      "text/plain": [
       "<Figure size 781.3x360 with 1 Axes>"
      ]
     },
     "metadata": {},
     "output_type": "display_data"
    }
   ],
   "source": [
    "#Graficando el número de vehículos con más emisión de CO2 según el tipo de combustible\n",
    "sns.set_theme(style=\"ticks\", palette=\"pastel\")\n",
    "g1 = sns.catplot(\n",
    "    data=ford_co2_x_fuel_sina, kind=\"bar\",\n",
    "    x=\"co2_bins\", y=\"conteo\", hue=\"Fuel Type\", aspect=2\n",
    ")\n",
    "g.set_xticklabels(rotation=90)\n",
    "plt.show()"
   ]
  },
  {
   "cell_type": "code",
   "execution_count": 31,
   "metadata": {},
   "outputs": [
    {
     "data": {
      "text/html": [
       "<div>\n",
       "<style scoped>\n",
       "    .dataframe tbody tr th:only-of-type {\n",
       "        vertical-align: middle;\n",
       "    }\n",
       "\n",
       "    .dataframe tbody tr th {\n",
       "        vertical-align: top;\n",
       "    }\n",
       "\n",
       "    .dataframe thead th {\n",
       "        text-align: right;\n",
       "    }\n",
       "</style>\n",
       "<table border=\"1\" class=\"dataframe\">\n",
       "  <thead>\n",
       "    <tr style=\"text-align: right;\">\n",
       "      <th></th>\n",
       "      <th>co2_bins</th>\n",
       "      <th>Fuel Type</th>\n",
       "      <th>Cylinders</th>\n",
       "      <th>conteo</th>\n",
       "    </tr>\n",
       "  </thead>\n",
       "  <tbody>\n",
       "    <tr>\n",
       "      <th>0</th>\n",
       "      <td>(95, 154]</td>\n",
       "      <td>D</td>\n",
       "      <td>3</td>\n",
       "      <td>0</td>\n",
       "    </tr>\n",
       "    <tr>\n",
       "      <th>1</th>\n",
       "      <td>(95, 154]</td>\n",
       "      <td>D</td>\n",
       "      <td>4</td>\n",
       "      <td>0</td>\n",
       "    </tr>\n",
       "    <tr>\n",
       "      <th>2</th>\n",
       "      <td>(95, 154]</td>\n",
       "      <td>D</td>\n",
       "      <td>6</td>\n",
       "      <td>0</td>\n",
       "    </tr>\n",
       "    <tr>\n",
       "      <th>3</th>\n",
       "      <td>(95, 154]</td>\n",
       "      <td>D</td>\n",
       "      <td>8</td>\n",
       "      <td>0</td>\n",
       "    </tr>\n",
       "    <tr>\n",
       "      <th>4</th>\n",
       "      <td>(95, 154]</td>\n",
       "      <td>D</td>\n",
       "      <td>10</td>\n",
       "      <td>0</td>\n",
       "    </tr>\n",
       "  </tbody>\n",
       "</table>\n",
       "</div>"
      ],
      "text/plain": [
       "    co2_bins Fuel Type  Cylinders  conteo\n",
       "0  (95, 154]         D          3       0\n",
       "1  (95, 154]         D          4       0\n",
       "2  (95, 154]         D          6       0\n",
       "3  (95, 154]         D          8       0\n",
       "4  (95, 154]         D         10       0"
      ]
     },
     "execution_count": 31,
     "metadata": {},
     "output_type": "execute_result"
    }
   ],
   "source": [
    "ford_co2_x_fuel_x_cylinders = (extraer_ford[['co2_bins', 'Fuel Type', 'Cylinders']].dropna() # Seleccion de columna y elimino NaNs\n",
    "                      .groupby(['co2_bins', 'Fuel Type', 'Cylinders']).size() # Agrupo y cuento las obs. por intervalo de edad y sexo \n",
    "                      .reset_index() # Convierte a df \n",
    "                      .rename({0: 'conteo'}, axis=1)) # Cambia el nombre de \"0\" a \"conteo\"\n",
    "ford_co2_x_fuel_x_cylinders.head()"
   ]
  },
  {
   "cell_type": "code",
   "execution_count": 32,
   "metadata": {},
   "outputs": [
    {
     "data": {
      "text/html": [
       "<div>\n",
       "<style scoped>\n",
       "    .dataframe tbody tr th:only-of-type {\n",
       "        vertical-align: middle;\n",
       "    }\n",
       "\n",
       "    .dataframe tbody tr th {\n",
       "        vertical-align: top;\n",
       "    }\n",
       "\n",
       "    .dataframe thead th {\n",
       "        text-align: right;\n",
       "    }\n",
       "</style>\n",
       "<table border=\"1\" class=\"dataframe\">\n",
       "  <thead>\n",
       "    <tr style=\"text-align: right;\">\n",
       "      <th></th>\n",
       "      <th>co2_bins</th>\n",
       "      <th>Fuel Type</th>\n",
       "      <th>Cylinders</th>\n",
       "      <th>conteo</th>\n",
       "    </tr>\n",
       "  </thead>\n",
       "  <tbody>\n",
       "    <tr>\n",
       "      <th>10</th>\n",
       "      <td>(95, 154]</td>\n",
       "      <td>X</td>\n",
       "      <td>3</td>\n",
       "      <td>2</td>\n",
       "    </tr>\n",
       "    <tr>\n",
       "      <th>11</th>\n",
       "      <td>(95, 154]</td>\n",
       "      <td>X</td>\n",
       "      <td>4</td>\n",
       "      <td>15</td>\n",
       "    </tr>\n",
       "    <tr>\n",
       "      <th>26</th>\n",
       "      <td>(154, 212]</td>\n",
       "      <td>E</td>\n",
       "      <td>4</td>\n",
       "      <td>17</td>\n",
       "    </tr>\n",
       "    <tr>\n",
       "      <th>30</th>\n",
       "      <td>(154, 212]</td>\n",
       "      <td>X</td>\n",
       "      <td>3</td>\n",
       "      <td>13</td>\n",
       "    </tr>\n",
       "    <tr>\n",
       "      <th>31</th>\n",
       "      <td>(154, 212]</td>\n",
       "      <td>X</td>\n",
       "      <td>4</td>\n",
       "      <td>61</td>\n",
       "    </tr>\n",
       "    <tr>\n",
       "      <th>42</th>\n",
       "      <td>(212, 270]</td>\n",
       "      <td>D</td>\n",
       "      <td>6</td>\n",
       "      <td>9</td>\n",
       "    </tr>\n",
       "    <tr>\n",
       "      <th>46</th>\n",
       "      <td>(212, 270]</td>\n",
       "      <td>E</td>\n",
       "      <td>4</td>\n",
       "      <td>10</td>\n",
       "    </tr>\n",
       "    <tr>\n",
       "      <th>47</th>\n",
       "      <td>(212, 270]</td>\n",
       "      <td>E</td>\n",
       "      <td>6</td>\n",
       "      <td>32</td>\n",
       "    </tr>\n",
       "    <tr>\n",
       "      <th>51</th>\n",
       "      <td>(212, 270]</td>\n",
       "      <td>X</td>\n",
       "      <td>4</td>\n",
       "      <td>135</td>\n",
       "    </tr>\n",
       "    <tr>\n",
       "      <th>52</th>\n",
       "      <td>(212, 270]</td>\n",
       "      <td>X</td>\n",
       "      <td>6</td>\n",
       "      <td>51</td>\n",
       "    </tr>\n",
       "    <tr>\n",
       "      <th>53</th>\n",
       "      <td>(212, 270]</td>\n",
       "      <td>X</td>\n",
       "      <td>8</td>\n",
       "      <td>1</td>\n",
       "    </tr>\n",
       "    <tr>\n",
       "      <th>56</th>\n",
       "      <td>(212, 270]</td>\n",
       "      <td>Z</td>\n",
       "      <td>4</td>\n",
       "      <td>3</td>\n",
       "    </tr>\n",
       "    <tr>\n",
       "      <th>62</th>\n",
       "      <td>(270, 523]</td>\n",
       "      <td>D</td>\n",
       "      <td>6</td>\n",
       "      <td>5</td>\n",
       "    </tr>\n",
       "    <tr>\n",
       "      <th>67</th>\n",
       "      <td>(270, 523]</td>\n",
       "      <td>E</td>\n",
       "      <td>6</td>\n",
       "      <td>16</td>\n",
       "    </tr>\n",
       "    <tr>\n",
       "      <th>68</th>\n",
       "      <td>(270, 523]</td>\n",
       "      <td>E</td>\n",
       "      <td>8</td>\n",
       "      <td>36</td>\n",
       "    </tr>\n",
       "    <tr>\n",
       "      <th>72</th>\n",
       "      <td>(270, 523]</td>\n",
       "      <td>X</td>\n",
       "      <td>6</td>\n",
       "      <td>142</td>\n",
       "    </tr>\n",
       "    <tr>\n",
       "      <th>73</th>\n",
       "      <td>(270, 523]</td>\n",
       "      <td>X</td>\n",
       "      <td>8</td>\n",
       "      <td>68</td>\n",
       "    </tr>\n",
       "    <tr>\n",
       "      <th>74</th>\n",
       "      <td>(270, 523]</td>\n",
       "      <td>X</td>\n",
       "      <td>10</td>\n",
       "      <td>1</td>\n",
       "    </tr>\n",
       "    <tr>\n",
       "      <th>77</th>\n",
       "      <td>(270, 523]</td>\n",
       "      <td>Z</td>\n",
       "      <td>6</td>\n",
       "      <td>4</td>\n",
       "    </tr>\n",
       "    <tr>\n",
       "      <th>78</th>\n",
       "      <td>(270, 523]</td>\n",
       "      <td>Z</td>\n",
       "      <td>8</td>\n",
       "      <td>7</td>\n",
       "    </tr>\n",
       "  </tbody>\n",
       "</table>\n",
       "</div>"
      ],
      "text/plain": [
       "      co2_bins Fuel Type  Cylinders  conteo\n",
       "10   (95, 154]         X          3       2\n",
       "11   (95, 154]         X          4      15\n",
       "26  (154, 212]         E          4      17\n",
       "30  (154, 212]         X          3      13\n",
       "31  (154, 212]         X          4      61\n",
       "42  (212, 270]         D          6       9\n",
       "46  (212, 270]         E          4      10\n",
       "47  (212, 270]         E          6      32\n",
       "51  (212, 270]         X          4     135\n",
       "52  (212, 270]         X          6      51\n",
       "53  (212, 270]         X          8       1\n",
       "56  (212, 270]         Z          4       3\n",
       "62  (270, 523]         D          6       5\n",
       "67  (270, 523]         E          6      16\n",
       "68  (270, 523]         E          8      36\n",
       "72  (270, 523]         X          6     142\n",
       "73  (270, 523]         X          8      68\n",
       "74  (270, 523]         X         10       1\n",
       "77  (270, 523]         Z          6       4\n",
       "78  (270, 523]         Z          8       7"
      ]
     },
     "execution_count": 32,
     "metadata": {},
     "output_type": "execute_result"
    }
   ],
   "source": [
    "#Conteo de vehículos que emiten co2 según tipo de combustible y cilindros\n",
    "ford_co2_x_fuel_x_cylinders_sina = ford_co2_x_fuel_x_cylinders[ford_co2_x_fuel_x_cylinders.conteo != 0]\n",
    "ford_co2_x_fuel_x_cylinders_sina"
   ]
  },
  {
   "cell_type": "code",
   "execution_count": 33,
   "metadata": {},
   "outputs": [
    {
     "data": {
      "image/png": "[encoded data removed]",
      "text/plain": [
       "<Figure size 781.3x360 with 1 Axes>"
      ]
     },
     "metadata": {},
     "output_type": "display_data"
    }
   ],
   "source": [
    "sns.set_theme(style=\"ticks\", palette=\"pastel\")\n",
    "g2 = sns.catplot(\n",
    "    data=ford_co2_x_fuel_x_cylinders_sina, kind=\"bar\",\n",
    "    x=\"co2_bins\", y=\"conteo\", hue=\"Fuel Type\", aspect=2\n",
    ")\n",
    "g.set_xticklabels(rotation=90)\n",
    "plt.show()"
   ]
  },
  {
   "cell_type": "code",
   "execution_count": 34,
   "metadata": {},
   "outputs": [
    {
     "data": {
      "image/png": "[encoded data removed]",
      "text/plain": [
       "<Figure size 1080x576 with 1 Axes>"
      ]
     },
     "metadata": {},
     "output_type": "display_data"
    }
   ],
   "source": [
    "plt.figure(figsize = (15,8))\n",
    "sns.set_theme(style=\"ticks\", palette=\"pastel\")\n",
    "sns.boxplot(x=\"co2_bins\", y=\"CO2 Emissions(g/km)\",\n",
    "            hue=\"Fuel Type\", palette=[\"m\", \"g\",\"r\",\"b\"],\n",
    "            data=extraer_ford)\n",
    "sns.despine(offset=10, trim=True)"
   ]
  },
  {
   "cell_type": "code",
   "execution_count": 35,
   "metadata": {},
   "outputs": [],
   "source": [
    "#import plotly.express as px\n",
    "#import plotly.graph_objects as go\n",
    "\n",
    "#from plotly.subplots import make_subplots"
   ]
  },
  {
   "cell_type": "code",
   "execution_count": 36,
   "metadata": {},
   "outputs": [],
   "source": [
    "#Crear pandas profiling\n",
    "#profile2 = ppr.ProfileReport(extraer_ford, title='Pandas Profiling Report', minimal=True)\n",
    "#profile2.to_file('../Co2/Ford_Co2.html')"
   ]
  }
 ],
 "metadata": {
  "interpreter": {
   "hash": "544d3282be030b517b4e6ec08c4dbeba86ee10f8dd9f1011e16b99b4a95871e3"
  },
  "kernelspec": {
   "display_name": "Python 3.9.2 ('VirtualPrueba': venv)",
   "language": "python",
   "name": "python3"
  },
  "language_info": {
   "codemirror_mode": {
    "name": "ipython",
    "version": 3
   },
   "file_extension": ".py",
   "mimetype": "text/x-python",
   "name": "python",
   "nbconvert_exporter": "python",
   "pygments_lexer": "ipython3",
   "version": "3.9.2"
  },
  "orig_nbformat": 4
 },
 "nbformat": 4,
 "nbformat_minor": 2
}
