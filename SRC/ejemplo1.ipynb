{
 "cells": [
  {
   "cell_type": "code",
   "execution_count": 10,
   "metadata": {},
   "outputs": [],
   "source": [
    "import datetime # Tipo de dato para fechas y horas\n",
    "import pandas as pd # Manejo de datos tabulados\n",
    "import numpy as np # Algebra Lineal y operaciones matematicas\n",
    "import matplotlib.pyplot as plt # Graficos de datos\n",
    "import seaborn as sns # Graficos estadisticos\n",
    "import pandas_profiling as ppr # ?????????\n",
    "#import geopandas as gpd # Pandas para datos geograficos (Mapas!!)\n",
    "#from fitter import Fitter # Ajuste de distribuciones de probs"
   ]
  },
  {
   "cell_type": "code",
   "execution_count": 13,
   "metadata": {},
   "outputs": [],
   "source": [
    "%matplotlib inline"
   ]
  },
  {
   "cell_type": "code",
   "execution_count": 11,
   "metadata": {},
   "outputs": [],
   "source": [
    "df = pd.read_csv('../Co2/CO2 Emissions_Canada.csv')"
   ]
  },
  {
   "cell_type": "code",
   "execution_count": 12,
   "metadata": {},
   "outputs": [
    {
     "data": {
      "text/html": [
       "<div>\n",
       "<style scoped>\n",
       "    .dataframe tbody tr th:only-of-type {\n",
       "        vertical-align: middle;\n",
       "    }\n",
       "\n",
       "    .dataframe tbody tr th {\n",
       "        vertical-align: top;\n",
       "    }\n",
       "\n",
       "    .dataframe thead th {\n",
       "        text-align: right;\n",
       "    }\n",
       "</style>\n",
       "<table border=\"1\" class=\"dataframe\">\n",
       "  <thead>\n",
       "    <tr style=\"text-align: right;\">\n",
       "      <th></th>\n",
       "      <th>Make</th>\n",
       "      <th>Model</th>\n",
       "      <th>Vehicle Class</th>\n",
       "      <th>Engine Size(L)</th>\n",
       "      <th>Cylinders</th>\n",
       "      <th>Transmission</th>\n",
       "      <th>Fuel Type</th>\n",
       "      <th>Fuel Consumption City (L/100 km)</th>\n",
       "      <th>Fuel Consumption Hwy (L/100 km)</th>\n",
       "      <th>Fuel Consumption Comb (L/100 km)</th>\n",
       "      <th>Fuel Consumption Comb (mpg)</th>\n",
       "      <th>CO2 Emissions(g/km)</th>\n",
       "    </tr>\n",
       "  </thead>\n",
       "  <tbody>\n",
       "    <tr>\n",
       "      <th>0</th>\n",
       "      <td>ACURA</td>\n",
       "      <td>ILX</td>\n",
       "      <td>COMPACT</td>\n",
       "      <td>2.0</td>\n",
       "      <td>4</td>\n",
       "      <td>AS5</td>\n",
       "      <td>Z</td>\n",
       "      <td>9.9</td>\n",
       "      <td>6.7</td>\n",
       "      <td>8.5</td>\n",
       "      <td>33</td>\n",
       "      <td>196</td>\n",
       "    </tr>\n",
       "    <tr>\n",
       "      <th>1</th>\n",
       "      <td>ACURA</td>\n",
       "      <td>ILX</td>\n",
       "      <td>COMPACT</td>\n",
       "      <td>2.4</td>\n",
       "      <td>4</td>\n",
       "      <td>M6</td>\n",
       "      <td>Z</td>\n",
       "      <td>11.2</td>\n",
       "      <td>7.7</td>\n",
       "      <td>9.6</td>\n",
       "      <td>29</td>\n",
       "      <td>221</td>\n",
       "    </tr>\n",
       "    <tr>\n",
       "      <th>2</th>\n",
       "      <td>ACURA</td>\n",
       "      <td>ILX HYBRID</td>\n",
       "      <td>COMPACT</td>\n",
       "      <td>1.5</td>\n",
       "      <td>4</td>\n",
       "      <td>AV7</td>\n",
       "      <td>Z</td>\n",
       "      <td>6.0</td>\n",
       "      <td>5.8</td>\n",
       "      <td>5.9</td>\n",
       "      <td>48</td>\n",
       "      <td>136</td>\n",
       "    </tr>\n",
       "    <tr>\n",
       "      <th>3</th>\n",
       "      <td>ACURA</td>\n",
       "      <td>MDX 4WD</td>\n",
       "      <td>SUV - SMALL</td>\n",
       "      <td>3.5</td>\n",
       "      <td>6</td>\n",
       "      <td>AS6</td>\n",
       "      <td>Z</td>\n",
       "      <td>12.7</td>\n",
       "      <td>9.1</td>\n",
       "      <td>11.1</td>\n",
       "      <td>25</td>\n",
       "      <td>255</td>\n",
       "    </tr>\n",
       "    <tr>\n",
       "      <th>4</th>\n",
       "      <td>ACURA</td>\n",
       "      <td>RDX AWD</td>\n",
       "      <td>SUV - SMALL</td>\n",
       "      <td>3.5</td>\n",
       "      <td>6</td>\n",
       "      <td>AS6</td>\n",
       "      <td>Z</td>\n",
       "      <td>12.1</td>\n",
       "      <td>8.7</td>\n",
       "      <td>10.6</td>\n",
       "      <td>27</td>\n",
       "      <td>244</td>\n",
       "    </tr>\n",
       "  </tbody>\n",
       "</table>\n",
       "</div>"
      ],
      "text/plain": [
       "    Make       Model Vehicle Class  Engine Size(L)  Cylinders Transmission  \\\n",
       "0  ACURA         ILX       COMPACT             2.0          4          AS5   \n",
       "1  ACURA         ILX       COMPACT             2.4          4           M6   \n",
       "2  ACURA  ILX HYBRID       COMPACT             1.5          4          AV7   \n",
       "3  ACURA     MDX 4WD   SUV - SMALL             3.5          6          AS6   \n",
       "4  ACURA     RDX AWD   SUV - SMALL             3.5          6          AS6   \n",
       "\n",
       "  Fuel Type  Fuel Consumption City (L/100 km)  \\\n",
       "0         Z                               9.9   \n",
       "1         Z                              11.2   \n",
       "2         Z                               6.0   \n",
       "3         Z                              12.7   \n",
       "4         Z                              12.1   \n",
       "\n",
       "   Fuel Consumption Hwy (L/100 km)  Fuel Consumption Comb (L/100 km)  \\\n",
       "0                              6.7                               8.5   \n",
       "1                              7.7                               9.6   \n",
       "2                              5.8                               5.9   \n",
       "3                              9.1                              11.1   \n",
       "4                              8.7                              10.6   \n",
       "\n",
       "   Fuel Consumption Comb (mpg)  CO2 Emissions(g/km)  \n",
       "0                           33                  196  \n",
       "1                           29                  221  \n",
       "2                           48                  136  \n",
       "3                           25                  255  \n",
       "4                           27                  244  "
      ]
     },
     "execution_count": 12,
     "metadata": {},
     "output_type": "execute_result"
    }
   ],
   "source": [
    "df.head()"
   ]
  },
  {
   "cell_type": "code",
   "execution_count": 33,
   "metadata": {},
   "outputs": [
    {
     "data": {
      "text/plain": [
       "7385"
      ]
     },
     "execution_count": 33,
     "metadata": {},
     "output_type": "execute_result"
    }
   ],
   "source": [
    "df.shape[0]"
   ]
  },
  {
   "cell_type": "code",
   "execution_count": 14,
   "metadata": {},
   "outputs": [
    {
     "data": {
      "text/plain": [
       "count    7385.000000\n",
       "mean      250.584699\n",
       "std        58.512679\n",
       "min        96.000000\n",
       "25%       208.000000\n",
       "50%       246.000000\n",
       "75%       288.000000\n",
       "max       522.000000\n",
       "Name: CO2 Emissions(g/km), dtype: float64"
      ]
     },
     "execution_count": 14,
     "metadata": {},
     "output_type": "execute_result"
    }
   ],
   "source": [
    "df['CO2 Emissions(g/km)'].describe()"
   ]
  },
  {
   "cell_type": "code",
   "execution_count": 42,
   "metadata": {},
   "outputs": [],
   "source": [
    "rangos_co2 = [95, 154, 212, 270, 523]\n",
    "co2_bins = pd.cut(df['CO2 Emissions(g/km)'], bins=rangos_co2)\n",
    "\n",
    "rangos_co2_count= co2_bins.value_counts()"
   ]
  },
  {
   "cell_type": "code",
   "execution_count": 43,
   "metadata": {},
   "outputs": [
    {
     "data": {
      "text/plain": [
       "(212, 270]    2795\n",
       "(270, 523]    2521\n",
       "(154, 212]    1892\n",
       "(95, 154]      177\n",
       "Name: CO2 Emissions(g/km), dtype: int64"
      ]
     },
     "execution_count": 43,
     "metadata": {},
     "output_type": "execute_result"
    }
   ],
   "source": [
    "rangos_co2_count"
   ]
  },
  {
   "cell_type": "code",
   "execution_count": 46,
   "metadata": {},
   "outputs": [],
   "source": [
    "df['co2_bins'] = co2_bins"
   ]
  },
  {
   "cell_type": "code",
   "execution_count": 47,
   "metadata": {},
   "outputs": [
    {
     "data": {
      "text/html": [
       "<div>\n",
       "<style scoped>\n",
       "    .dataframe tbody tr th:only-of-type {\n",
       "        vertical-align: middle;\n",
       "    }\n",
       "\n",
       "    .dataframe tbody tr th {\n",
       "        vertical-align: top;\n",
       "    }\n",
       "\n",
       "    .dataframe thead th {\n",
       "        text-align: right;\n",
       "    }\n",
       "</style>\n",
       "<table border=\"1\" class=\"dataframe\">\n",
       "  <thead>\n",
       "    <tr style=\"text-align: right;\">\n",
       "      <th></th>\n",
       "      <th>co2_bins</th>\n",
       "      <th>Fuel Type</th>\n",
       "      <th>conteo</th>\n",
       "    </tr>\n",
       "  </thead>\n",
       "  <tbody>\n",
       "    <tr>\n",
       "      <th>0</th>\n",
       "      <td>(95, 154]</td>\n",
       "      <td>D</td>\n",
       "      <td>0</td>\n",
       "    </tr>\n",
       "    <tr>\n",
       "      <th>1</th>\n",
       "      <td>(95, 154]</td>\n",
       "      <td>E</td>\n",
       "      <td>1</td>\n",
       "    </tr>\n",
       "    <tr>\n",
       "      <th>2</th>\n",
       "      <td>(95, 154]</td>\n",
       "      <td>N</td>\n",
       "      <td>0</td>\n",
       "    </tr>\n",
       "    <tr>\n",
       "      <th>3</th>\n",
       "      <td>(95, 154]</td>\n",
       "      <td>X</td>\n",
       "      <td>166</td>\n",
       "    </tr>\n",
       "    <tr>\n",
       "      <th>4</th>\n",
       "      <td>(95, 154]</td>\n",
       "      <td>Z</td>\n",
       "      <td>10</td>\n",
       "    </tr>\n",
       "  </tbody>\n",
       "</table>\n",
       "</div>"
      ],
      "text/plain": [
       "    co2_bins Fuel Type  conteo\n",
       "0  (95, 154]         D       0\n",
       "1  (95, 154]         E       1\n",
       "2  (95, 154]         N       0\n",
       "3  (95, 154]         X     166\n",
       "4  (95, 154]         Z      10"
      ]
     },
     "execution_count": 47,
     "metadata": {},
     "output_type": "execute_result"
    }
   ],
   "source": [
    "conteo_co2_x_fuel = (df[['co2_bins', 'Fuel Type']].dropna() # Seleccion de columna y elimino NaNs\n",
    "                      .groupby(['co2_bins', 'Fuel Type']).size() # Agrupo y cuento las obs. por intervalo de edad y sexo \n",
    "                      .reset_index() # Convierte a df \n",
    "                      .rename({0: 'conteo'}, axis=1)) # Cambia el nombre de \"0\" a \"conteo\"\n",
    "conteo_co2_x_fuel.head()"
   ]
  },
  {
   "cell_type": "code",
   "execution_count": 48,
   "metadata": {},
   "outputs": [
    {
     "data": {
      "image/png": "[encoded data removed]",
      "text/plain": [
       "<Figure size 414.5x360 with 1 Axes>"
      ]
     },
     "metadata": {
      "needs_background": "light"
     },
     "output_type": "display_data"
    }
   ],
   "source": [
    "g = sns.catplot(\n",
    "    data=conteo_co2_x_fuel, kind=\"bar\",\n",
    "    x=\"co2_bins\", y=\"conteo\", hue=\"Fuel Type\",\n",
    ")\n",
    "g.set_xticklabels(rotation=90)\n",
    "plt.show()"
   ]
  },
  {
   "cell_type": "code",
   "execution_count": 17,
   "metadata": {},
   "outputs": [
    {
     "data": {
      "text/plain": [
       "count    7385.000000\n",
       "mean        3.160068\n",
       "std         1.354170\n",
       "min         0.900000\n",
       "25%         2.000000\n",
       "50%         3.000000\n",
       "75%         3.700000\n",
       "max         8.400000\n",
       "Name: Engine Size(L), dtype: float64"
      ]
     },
     "execution_count": 17,
     "metadata": {},
     "output_type": "execute_result"
    }
   ],
   "source": [
    "df['Engine Size(L)'].describe()\n",
    "\n"
   ]
  },
  {
   "cell_type": "code",
   "execution_count": 18,
   "metadata": {},
   "outputs": [],
   "source": [
    "rangos_cil = [0, 1, 2, 3, 4, 5, 6, 7, 8, 9]\n",
    "cil_bins = pd.cut(df['Engine Size(L)'], bins=rangos_cil)\n",
    "\n",
    "cil_bins_count = cil_bins.value_counts()"
   ]
  },
  {
   "cell_type": "code",
   "execution_count": 19,
   "metadata": {},
   "outputs": [
    {
     "data": {
      "text/plain": [
       "(1, 2]    2432\n",
       "(2, 3]    1776\n",
       "(3, 4]    1661\n",
       "(5, 6]     650\n",
       "(4, 5]     546\n",
       "(6, 7]     291\n",
       "(0, 1]      21\n",
       "(8, 9]       5\n",
       "(7, 8]       3\n",
       "Name: Engine Size(L), dtype: int64"
      ]
     },
     "execution_count": 19,
     "metadata": {},
     "output_type": "execute_result"
    }
   ],
   "source": [
    "cil_bins_count"
   ]
  },
  {
   "cell_type": "code",
   "execution_count": 20,
   "metadata": {},
   "outputs": [
    {
     "data": {
      "text/plain": [
       "<AxesSubplot:>"
      ]
     },
     "execution_count": 20,
     "metadata": {},
     "output_type": "execute_result"
    },
    {
     "data": {
      "image/png": "[encoded data removed]",
      "text/plain": [
       "<Figure size 432x288 with 1 Axes>"
      ]
     },
     "metadata": {
      "needs_background": "light"
     },
     "output_type": "display_data"
    }
   ],
   "source": [
    "cil_bins_count.sort_index().plot(kind='bar')"
   ]
  },
  {
   "cell_type": "markdown",
   "metadata": {},
   "source": [
    "# Correlación entre varibles y emisión de CO2"
   ]
  },
  {
   "cell_type": "code",
   "execution_count": 22,
   "metadata": {},
   "outputs": [
    {
     "data": {
      "text/plain": [
       "<matplotlib.collections.PathCollection at 0x2650f4df070>"
      ]
     },
     "execution_count": 22,
     "metadata": {},
     "output_type": "execute_result"
    },
    {
     "data": {
      "image/png": "[encoded data removed]",
      "text/plain": [
       "<Figure size 432x288 with 1 Axes>"
      ]
     },
     "metadata": {
      "needs_background": "light"
     },
     "output_type": "display_data"
    }
   ],
   "source": [
    "plt.scatter(x=df['CO2 Emissions(g/km)'], y=df['Engine Size(L)'])"
   ]
  },
  {
   "cell_type": "code",
   "execution_count": 23,
   "metadata": {},
   "outputs": [
    {
     "data": {
      "text/plain": [
       "Index(['Make', 'Model', 'Vehicle Class', 'Engine Size(L)', 'Cylinders',\n",
       "       'Transmission', 'Fuel Type', 'Fuel Consumption City (L/100 km)',\n",
       "       'Fuel Consumption Hwy (L/100 km)', 'Fuel Consumption Comb (L/100 km)',\n",
       "       'Fuel Consumption Comb (mpg)', 'CO2 Emissions(g/km)'],\n",
       "      dtype='object')"
      ]
     },
     "execution_count": 23,
     "metadata": {},
     "output_type": "execute_result"
    }
   ],
   "source": [
    "df.columns"
   ]
  },
  {
   "cell_type": "code",
   "execution_count": 24,
   "metadata": {},
   "outputs": [],
   "source": [
    "df_vars = df[['Engine Size(L)', 'Cylinders', 'Fuel Type', 'Fuel Consumption City (L/100 km)',\n",
    "       'Fuel Consumption Hwy (L/100 km)', 'Fuel Consumption Comb (L/100 km)',\n",
    "       'Fuel Consumption Comb (mpg)', 'CO2 Emissions(g/km)']]"
   ]
  },
  {
   "cell_type": "code",
   "execution_count": 26,
   "metadata": {},
   "outputs": [
    {
     "data": {
      "text/plain": [
       "8"
      ]
     },
     "execution_count": 26,
     "metadata": {},
     "output_type": "execute_result"
    }
   ],
   "source": [
    "corr_matrix_var = ['Engine Size(L)', 'Cylinders', 'Fuel Type', 'Fuel Consumption City (L/100 km)',\n",
    "       'Fuel Consumption Hwy (L/100 km)', 'Fuel Consumption Comb (L/100 km)',\n",
    "       'Fuel Consumption Comb (mpg)', 'CO2 Emissions(g/km)']\n",
    "\n",
    "len(corr_matrix_var)"
   ]
  },
  {
   "cell_type": "code",
   "execution_count": 27,
   "metadata": {},
   "outputs": [
    {
     "data": {
      "text/html": [
       "<div>\n",
       "<style scoped>\n",
       "    .dataframe tbody tr th:only-of-type {\n",
       "        vertical-align: middle;\n",
       "    }\n",
       "\n",
       "    .dataframe tbody tr th {\n",
       "        vertical-align: top;\n",
       "    }\n",
       "\n",
       "    .dataframe thead th {\n",
       "        text-align: right;\n",
       "    }\n",
       "</style>\n",
       "<table border=\"1\" class=\"dataframe\">\n",
       "  <thead>\n",
       "    <tr style=\"text-align: right;\">\n",
       "      <th></th>\n",
       "      <th>Engine Size(L)</th>\n",
       "      <th>Cylinders</th>\n",
       "      <th>Fuel Consumption City (L/100 km)</th>\n",
       "      <th>Fuel Consumption Hwy (L/100 km)</th>\n",
       "      <th>Fuel Consumption Comb (L/100 km)</th>\n",
       "      <th>Fuel Consumption Comb (mpg)</th>\n",
       "      <th>CO2 Emissions(g/km)</th>\n",
       "    </tr>\n",
       "  </thead>\n",
       "  <tbody>\n",
       "    <tr>\n",
       "      <th>Engine Size(L)</th>\n",
       "      <td>1.000000</td>\n",
       "      <td>0.927653</td>\n",
       "      <td>0.831379</td>\n",
       "      <td>0.761526</td>\n",
       "      <td>0.817060</td>\n",
       "      <td>-0.757854</td>\n",
       "      <td>0.851145</td>\n",
       "    </tr>\n",
       "    <tr>\n",
       "      <th>Cylinders</th>\n",
       "      <td>0.927653</td>\n",
       "      <td>1.000000</td>\n",
       "      <td>0.800702</td>\n",
       "      <td>0.715252</td>\n",
       "      <td>0.780534</td>\n",
       "      <td>-0.719321</td>\n",
       "      <td>0.832644</td>\n",
       "    </tr>\n",
       "    <tr>\n",
       "      <th>Fuel Consumption City (L/100 km)</th>\n",
       "      <td>0.831379</td>\n",
       "      <td>0.800702</td>\n",
       "      <td>1.000000</td>\n",
       "      <td>0.948180</td>\n",
       "      <td>0.993810</td>\n",
       "      <td>-0.927059</td>\n",
       "      <td>0.919592</td>\n",
       "    </tr>\n",
       "    <tr>\n",
       "      <th>Fuel Consumption Hwy (L/100 km)</th>\n",
       "      <td>0.761526</td>\n",
       "      <td>0.715252</td>\n",
       "      <td>0.948180</td>\n",
       "      <td>1.000000</td>\n",
       "      <td>0.977299</td>\n",
       "      <td>-0.890638</td>\n",
       "      <td>0.883536</td>\n",
       "    </tr>\n",
       "    <tr>\n",
       "      <th>Fuel Consumption Comb (L/100 km)</th>\n",
       "      <td>0.817060</td>\n",
       "      <td>0.780534</td>\n",
       "      <td>0.993810</td>\n",
       "      <td>0.977299</td>\n",
       "      <td>1.000000</td>\n",
       "      <td>-0.925576</td>\n",
       "      <td>0.918052</td>\n",
       "    </tr>\n",
       "    <tr>\n",
       "      <th>Fuel Consumption Comb (mpg)</th>\n",
       "      <td>-0.757854</td>\n",
       "      <td>-0.719321</td>\n",
       "      <td>-0.927059</td>\n",
       "      <td>-0.890638</td>\n",
       "      <td>-0.925576</td>\n",
       "      <td>1.000000</td>\n",
       "      <td>-0.907426</td>\n",
       "    </tr>\n",
       "    <tr>\n",
       "      <th>CO2 Emissions(g/km)</th>\n",
       "      <td>0.851145</td>\n",
       "      <td>0.832644</td>\n",
       "      <td>0.919592</td>\n",
       "      <td>0.883536</td>\n",
       "      <td>0.918052</td>\n",
       "      <td>-0.907426</td>\n",
       "      <td>1.000000</td>\n",
       "    </tr>\n",
       "  </tbody>\n",
       "</table>\n",
       "</div>"
      ],
      "text/plain": [
       "                                  Engine Size(L)  Cylinders  \\\n",
       "Engine Size(L)                          1.000000   0.927653   \n",
       "Cylinders                               0.927653   1.000000   \n",
       "Fuel Consumption City (L/100 km)        0.831379   0.800702   \n",
       "Fuel Consumption Hwy (L/100 km)         0.761526   0.715252   \n",
       "Fuel Consumption Comb (L/100 km)        0.817060   0.780534   \n",
       "Fuel Consumption Comb (mpg)            -0.757854  -0.719321   \n",
       "CO2 Emissions(g/km)                     0.851145   0.832644   \n",
       "\n",
       "                                  Fuel Consumption City (L/100 km)  \\\n",
       "Engine Size(L)                                            0.831379   \n",
       "Cylinders                                                 0.800702   \n",
       "Fuel Consumption City (L/100 km)                          1.000000   \n",
       "Fuel Consumption Hwy (L/100 km)                           0.948180   \n",
       "Fuel Consumption Comb (L/100 km)                          0.993810   \n",
       "Fuel Consumption Comb (mpg)                              -0.927059   \n",
       "CO2 Emissions(g/km)                                       0.919592   \n",
       "\n",
       "                                  Fuel Consumption Hwy (L/100 km)  \\\n",
       "Engine Size(L)                                           0.761526   \n",
       "Cylinders                                                0.715252   \n",
       "Fuel Consumption City (L/100 km)                         0.948180   \n",
       "Fuel Consumption Hwy (L/100 km)                          1.000000   \n",
       "Fuel Consumption Comb (L/100 km)                         0.977299   \n",
       "Fuel Consumption Comb (mpg)                             -0.890638   \n",
       "CO2 Emissions(g/km)                                      0.883536   \n",
       "\n",
       "                                  Fuel Consumption Comb (L/100 km)  \\\n",
       "Engine Size(L)                                            0.817060   \n",
       "Cylinders                                                 0.780534   \n",
       "Fuel Consumption City (L/100 km)                          0.993810   \n",
       "Fuel Consumption Hwy (L/100 km)                           0.977299   \n",
       "Fuel Consumption Comb (L/100 km)                          1.000000   \n",
       "Fuel Consumption Comb (mpg)                              -0.925576   \n",
       "CO2 Emissions(g/km)                                       0.918052   \n",
       "\n",
       "                                  Fuel Consumption Comb (mpg)  \\\n",
       "Engine Size(L)                                      -0.757854   \n",
       "Cylinders                                           -0.719321   \n",
       "Fuel Consumption City (L/100 km)                    -0.927059   \n",
       "Fuel Consumption Hwy (L/100 km)                     -0.890638   \n",
       "Fuel Consumption Comb (L/100 km)                    -0.925576   \n",
       "Fuel Consumption Comb (mpg)                          1.000000   \n",
       "CO2 Emissions(g/km)                                 -0.907426   \n",
       "\n",
       "                                  CO2 Emissions(g/km)  \n",
       "Engine Size(L)                               0.851145  \n",
       "Cylinders                                    0.832644  \n",
       "Fuel Consumption City (L/100 km)             0.919592  \n",
       "Fuel Consumption Hwy (L/100 km)              0.883536  \n",
       "Fuel Consumption Comb (L/100 km)             0.918052  \n",
       "Fuel Consumption Comb (mpg)                 -0.907426  \n",
       "CO2 Emissions(g/km)                          1.000000  "
      ]
     },
     "execution_count": 27,
     "metadata": {},
     "output_type": "execute_result"
    }
   ],
   "source": [
    "corr_matrix  = df_vars[corr_matrix_var].corr()\n",
    "corr_matrix"
   ]
  },
  {
   "cell_type": "code",
   "execution_count": 32,
   "metadata": {},
   "outputs": [
    {
     "data": {
      "image/png": "[encoded data removed]",
      "text/plain": [
       "<Figure size 288x288 with 2 Axes>"
      ]
     },
     "metadata": {
      "needs_background": "light"
     },
     "output_type": "display_data"
    }
   ],
   "source": [
    "# Grafico de la matriz de correlacion\n",
    "\n",
    "plt.rcParams['axes.grid'] = False  # Eliminar lineas dentro del grafico\n",
    "\n",
    "plt.matshow(corr_matrix, cmap='coolwarm', vmin=-1, vmax=1)\n",
    "\n",
    "# Colocar nombres de variables en los ejes\n",
    "plt.xticks(np.arange(corr_matrix.shape[0]), corr_matrix.columns, rotation=90)\n",
    "plt.yticks(np.arange(corr_matrix.shape[0]), corr_matrix.columns)\n",
    "\n",
    "plt.colorbar() # Agregar un barra de colores como leyenda\n",
    "\n",
    "plt.show()"
   ]
  },
  {
   "cell_type": "markdown",
   "metadata": {},
   "source": [
    "# Agrupando por Marca de auto"
   ]
  },
  {
   "cell_type": "code",
   "execution_count": 37,
   "metadata": {},
   "outputs": [
    {
     "data": {
      "text/plain": [
       "FORD             628\n",
       "CHEVROLET        588\n",
       "BMW              527\n",
       "MERCEDES-BENZ    419\n",
       "PORSCHE          376\n",
       "TOYOTA           330\n",
       "GMC              328\n",
       "AUDI             286\n",
       "NISSAN           259\n",
       "JEEP             251\n",
       "DODGE            246\n",
       "KIA              231\n",
       "HONDA            214\n",
       "HYUNDAI          210\n",
       "MINI             204\n",
       "VOLKSWAGEN       197\n",
       "MAZDA            180\n",
       "LEXUS            178\n",
       "JAGUAR           160\n",
       "CADILLAC         158\n",
       "SUBARU           140\n",
       "VOLVO            124\n",
       "INFINITI         108\n",
       "BUICK            103\n",
       "RAM               97\n",
       "LINCOLN           96\n",
       "MITSUBISHI        95\n",
       "CHRYSLER          88\n",
       "LAND ROVER        85\n",
       "FIAT              73\n",
       "ACURA             72\n",
       "MASERATI          61\n",
       "ROLLS-ROYCE       50\n",
       "ASTON MARTIN      47\n",
       "BENTLEY           46\n",
       "LAMBORGHINI       41\n",
       "ALFA ROMEO        30\n",
       "GENESIS           25\n",
       "SCION             22\n",
       "SMART              7\n",
       "BUGATTI            3\n",
       "SRT                2\n",
       "Name: Make, dtype: int64"
      ]
     },
     "execution_count": 37,
     "metadata": {},
     "output_type": "execute_result"
    }
   ],
   "source": [
    "df['Make'].value_counts()"
   ]
  },
  {
   "cell_type": "code",
   "execution_count": 39,
   "metadata": {},
   "outputs": [
    {
     "data": {
      "text/html": [
       "<div>\n",
       "<style scoped>\n",
       "    .dataframe tbody tr th:only-of-type {\n",
       "        vertical-align: middle;\n",
       "    }\n",
       "\n",
       "    .dataframe tbody tr th {\n",
       "        vertical-align: top;\n",
       "    }\n",
       "\n",
       "    .dataframe thead th {\n",
       "        text-align: right;\n",
       "    }\n",
       "</style>\n",
       "<table border=\"1\" class=\"dataframe\">\n",
       "  <thead>\n",
       "    <tr style=\"text-align: right;\">\n",
       "      <th></th>\n",
       "      <th>Make</th>\n",
       "      <th>Engine Size(L)</th>\n",
       "      <th>conteo</th>\n",
       "    </tr>\n",
       "  </thead>\n",
       "  <tbody>\n",
       "    <tr>\n",
       "      <th>0</th>\n",
       "      <td>ACURA</td>\n",
       "      <td>1.5</td>\n",
       "      <td>2</td>\n",
       "    </tr>\n",
       "    <tr>\n",
       "      <th>1</th>\n",
       "      <td>ACURA</td>\n",
       "      <td>2.0</td>\n",
       "      <td>6</td>\n",
       "    </tr>\n",
       "    <tr>\n",
       "      <th>2</th>\n",
       "      <td>ACURA</td>\n",
       "      <td>2.4</td>\n",
       "      <td>17</td>\n",
       "    </tr>\n",
       "    <tr>\n",
       "      <th>3</th>\n",
       "      <td>ACURA</td>\n",
       "      <td>3.0</td>\n",
       "      <td>4</td>\n",
       "    </tr>\n",
       "    <tr>\n",
       "      <th>4</th>\n",
       "      <td>ACURA</td>\n",
       "      <td>3.5</td>\n",
       "      <td>41</td>\n",
       "    </tr>\n",
       "  </tbody>\n",
       "</table>\n",
       "</div>"
      ],
      "text/plain": [
       "    Make  Engine Size(L)  conteo\n",
       "0  ACURA             1.5       2\n",
       "1  ACURA             2.0       6\n",
       "2  ACURA             2.4      17\n",
       "3  ACURA             3.0       4\n",
       "4  ACURA             3.5      41"
      ]
     },
     "execution_count": 39,
     "metadata": {},
     "output_type": "execute_result"
    }
   ],
   "source": [
    "conteo_marca_cil = (df[['Make', 'Engine Size(L)']].dropna() # Seleccion de columna y elimino NaNs\n",
    "                      .groupby(['Make', 'Engine Size(L)']).size() # Agrupo y cuento las obs. por intervalo de edad y sexo \n",
    "                      .reset_index() # Convierte a df \n",
    "                      .rename({0: 'conteo'}, axis=1)) # Cambia el nombre de \"0\" a \"conteo\"\n",
    "conteo_marca_cil.head()"
   ]
  }
 ],
 "metadata": {
  "interpreter": {
   "hash": "544d3282be030b517b4e6ec08c4dbeba86ee10f8dd9f1011e16b99b4a95871e3"
  },
  "kernelspec": {
   "display_name": "Python 3.9.2 ('VirtualPrueba': venv)",
   "language": "python",
   "name": "python3"
  },
  "language_info": {
   "codemirror_mode": {
    "name": "ipython",
    "version": 3
   },
   "file_extension": ".py",
   "mimetype": "text/x-python",
   "name": "python",
   "nbconvert_exporter": "python",
   "pygments_lexer": "ipython3",
   "version": "3.9.2"
  },
  "orig_nbformat": 4
 },
 "nbformat": 4,
 "nbformat_minor": 2
}
